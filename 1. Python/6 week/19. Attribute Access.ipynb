{
 "cells": [
  {
   "cell_type": "markdown",
   "metadata": {},
   "source": [
    "# Методы доступа к атрибутам\n",
    "\n",
    "https://github.com/alexopryshko/advancedpython/tree/master/1\n",
    "\n",
    "В питоне есть еще группа магических методов, которые вызываются при доступе к атрибутам со стороны объекта вызывающего класса:\n",
    "\n",
    "- `__getattribute__(self, name)` - будет вызван при попытке получить значение атрибута. Если этот метод переопределён, стандартный механизм поиска значения атрибута не будет задействован. По умолчанию как раз он и лезет в `__dict__` объекта и вызывает в случае неудачи `__getattr__`:\n",
    "- `__getattr__(self, name)` - будет вызван в случае, если запрашиваемый атрибут не найден обычным механизмом (в `__dict__` экземпляра, класса и т.д.)\n",
    "- `__setattr__(self, name, value)` - будет вызван при попытке установить значение атрибута экземпляра. Если его переопределить, стандартный механизм установки значения не будет задействован.\n",
    "- `__delattr__(self, name)` - используется при удалении атрибута.\n",
    "\n",
    "В следующем примере показано, что `__getattr__` вызывается только тогда, когда стандартными средствами (заглянув в `__dict__` объекта и класса) найти атрибут не получается. При этом в нашем случае метод срабатывает для любых значений, не вызывая AttributeError"
   ]
  },
  {
   "cell_type": "code",
   "execution_count": 1,
   "metadata": {},
   "outputs": [
    {
     "name": "stdout",
     "output_type": "stream",
     "text": [
      "{'name': 'name'} {'__module__': '__main__', '__firstlineno__': 1, '__getattr__': <function A.__getattr__ at 0x000002429E854540>, 'field': 'field', '__static_attributes__': (), '__dict__': <attribute '__dict__' of 'A' objects>, '__weakref__': <attribute '__weakref__' of 'A' objects>, '__doc__': None}\n",
      "\n",
      "\n",
      "a.name name\n",
      "\n",
      "a.field field\n",
      "\n",
      "__getattr__\n",
      "a.random 42\n",
      "\n"
     ]
    }
   ],
   "source": [
    "class A:\n",
    "    def __getattr__(self, attr):\n",
    "        print('__getattr__')\n",
    "        return 42\n",
    "\n",
    "    field = 'field'\n",
    "\n",
    "\n",
    "a = A()\n",
    "a.name = 'name'\n",
    "\n",
    "print(a.__dict__, A.__dict__, end='\\n\\n\\n')\n",
    "print('a.name', a.name, end='\\n\\n')\n",
    "print('a.field', a.field, end='\\n\\n')\n",
    "print('a.random', a.random, end='\\n\\n')"
   ]
  },
  {
   "cell_type": "markdown",
   "metadata": {},
   "source": [
    "А если переопределим `__getattribute__`, то даже на `__dict__` посмотреть не сможем."
   ]
  },
  {
   "cell_type": "code",
   "execution_count": 2,
   "metadata": {},
   "outputs": [
    {
     "name": "stdout",
     "output_type": "stream",
     "text": [
      "__getattribute__\n",
      "__dict__ 42\n",
      "\n",
      "__getattribute__\n",
      "a.name 42\n",
      "\n",
      "__getattribute__\n",
      "a.field 42\n",
      "\n",
      "__getattribute__\n",
      "a.random 42\n",
      "\n",
      "__getattribute__\n",
      "a.__len__ 42\n",
      "\n",
      "len(a) 0\n",
      "\n",
      "test <__main__.A object at 0x000002429E697CB0>\n",
      "type(a)... None\n",
      "\n",
      "A.field field\n",
      "\n"
     ]
    }
   ],
   "source": [
    "class A:\n",
    "    def __getattribute__(self, item):\n",
    "        print('__getattribute__')\n",
    "        return 42\n",
    "\n",
    "    def __len__(self):\n",
    "        return 0\n",
    "\n",
    "    def test(self):\n",
    "        print('test', self)\n",
    "\n",
    "    field = 'field'\n",
    "\n",
    "\n",
    "a = A()\n",
    "a.name = 'name'\n",
    "\n",
    "print('__dict__', getattr(a, \"__dict__\"), end='\\n\\n')\n",
    "print('a.name', a.name, end='\\n\\n')\n",
    "print('a.field', a.field, end='\\n\\n')\n",
    "print('a.random', a.random, end='\\n\\n')\n",
    "print('a.__len__', a.__len__, end='\\n\\n')\n",
    "print('len(a)', len(a), end='\\n\\n')\n",
    "print('type(a)...', type(a).__dict__['test'](a), end='\\n\\n')\n",
    "print('A.field', A.field, end='\\n\\n')\n"
   ]
  },
  {
   "cell_type": "markdown",
   "metadata": {},
   "source": [
    "Переопределяя `__setattr__`, рискуем не увидеть наши добавляемые атрибуты объекта в `__dict__`"
   ]
  },
  {
   "cell_type": "code",
   "execution_count": 3,
   "metadata": {},
   "outputs": [
    {
     "name": "stdout",
     "output_type": "stream",
     "text": [
      "__setattr__\n",
      "__setattr__\n",
      "a.__dict__ {}\n",
      "\n",
      "A.field new\n",
      "\n"
     ]
    }
   ],
   "source": [
    "class A:\n",
    "    def __setattr__(self, key, value):\n",
    "        print('__setattr__')\n",
    "\n",
    "    field = 'field'\n",
    "\n",
    "\n",
    "a = A()\n",
    "a.field = 1\n",
    "a.a = 1\n",
    "print('a.__dict__', a.__dict__, end='\\n\\n')\n",
    "A.field = 'new'\n",
    "print('A.field', A.field, end='\\n\\n')"
   ]
  },
  {
   "cell_type": "code",
   "execution_count": 4,
   "metadata": {},
   "outputs": [
    {
     "data": {
      "text/plain": [
       "'new'"
      ]
     },
     "execution_count": 4,
     "metadata": {},
     "output_type": "execute_result"
    }
   ],
   "source": [
    "a.field"
   ]
  },
  {
   "cell_type": "code",
   "execution_count": 5,
   "metadata": {},
   "outputs": [
    {
     "ename": "AttributeError",
     "evalue": "'A' object has no attribute 'a'",
     "output_type": "error",
     "traceback": [
      "\u001b[1;31m---------------------------------------------------------------------------\u001b[0m",
      "\u001b[1;31mAttributeError\u001b[0m                            Traceback (most recent call last)",
      "Cell \u001b[1;32mIn[5], line 1\u001b[0m\n\u001b[1;32m----> 1\u001b[0m \u001b[43ma\u001b[49m\u001b[38;5;241;43m.\u001b[39;49m\u001b[43ma\u001b[49m\n",
      "\u001b[1;31mAttributeError\u001b[0m: 'A' object has no attribute 'a'"
     ]
    }
   ],
   "source": [
    "a.a"
   ]
  },
  {
   "cell_type": "markdown",
   "metadata": {},
   "source": [
    "А таким образом можем разрешить нашему объекту возвращать только те атрибуты, название которых начинается на слово test. Теоретически, используя этот прием, можно реализовать истинно приватные атрибуты, но зачем?"
   ]
  },
  {
   "cell_type": "code",
   "execution_count": 6,
   "metadata": {},
   "outputs": [
    {
     "name": "stdout",
     "output_type": "stream",
     "text": [
      "a.__dict__ {'test_name': 1, 'name': 1}\n",
      "a.test_name 1\n"
     ]
    },
    {
     "ename": "AttributeError",
     "evalue": "",
     "output_type": "error",
     "traceback": [
      "\u001b[1;31m---------------------------------------------------------------------------\u001b[0m",
      "\u001b[1;31mAttributeError\u001b[0m                            Traceback (most recent call last)",
      "Cell \u001b[1;32mIn[6], line 14\u001b[0m\n\u001b[0;32m     12\u001b[0m \u001b[38;5;28mprint\u001b[39m(\u001b[38;5;124m'\u001b[39m\u001b[38;5;124ma.__dict__\u001b[39m\u001b[38;5;124m'\u001b[39m, a\u001b[38;5;241m.\u001b[39m\u001b[38;5;18m__dict__\u001b[39m)\n\u001b[0;32m     13\u001b[0m \u001b[38;5;28mprint\u001b[39m(\u001b[38;5;124m'\u001b[39m\u001b[38;5;124ma.test_name\u001b[39m\u001b[38;5;124m'\u001b[39m, a\u001b[38;5;241m.\u001b[39mtest_name)\n\u001b[1;32m---> 14\u001b[0m \u001b[38;5;28mprint\u001b[39m(\u001b[38;5;124m'\u001b[39m\u001b[38;5;124ma.name\u001b[39m\u001b[38;5;124m'\u001b[39m, \u001b[43ma\u001b[49m\u001b[38;5;241;43m.\u001b[39;49m\u001b[43mname\u001b[49m)\n",
      "Cell \u001b[1;32mIn[6], line 6\u001b[0m, in \u001b[0;36mA.__getattribute__\u001b[1;34m(self, item)\u001b[0m\n\u001b[0;32m      4\u001b[0m     \u001b[38;5;28;01mreturn\u001b[39;00m \u001b[38;5;28msuper\u001b[39m()\u001b[38;5;241m.\u001b[39m\u001b[38;5;21m__getattribute__\u001b[39m(item)\n\u001b[0;32m      5\u001b[0m \u001b[38;5;28;01melse\u001b[39;00m:\n\u001b[1;32m----> 6\u001b[0m     \u001b[38;5;28;01mraise\u001b[39;00m \u001b[38;5;167;01mAttributeError\u001b[39;00m\n",
      "\u001b[1;31mAttributeError\u001b[0m: "
     ]
    }
   ],
   "source": [
    "class A:\n",
    "    def __getattribute__(self, item):\n",
    "        if 'test' in item or '__dict__' == item:\n",
    "            return super().__getattribute__(item)\n",
    "        else:\n",
    "            raise AttributeError\n",
    "\n",
    "\n",
    "a = A()\n",
    "a.test_name = 1\n",
    "a.name = 1\n",
    "print('a.__dict__', a.__dict__)\n",
    "print('a.test_name', a.test_name)\n",
    "print('a.name', a.name)"
   ]
  },
  {
   "cell_type": "markdown",
   "metadata": {},
   "source": [
    "## Общий алгоритм получения атрибута\n",
    "\n",
    "Чтобы получить значение атрибута attrname:\n",
    "- Если определён метод `a.__class__.__getattribute__()`, то вызывается он и возвращается полученное значение.\n",
    "- Если attrname это специальный (определённый python-ом) атрибут, такой как `__class__` или `__doc__`, возвращается его значение.\n",
    "- Проверяется `a.__class__.__dict__` на наличие записи с attrname. Если она существует и значением является data дескриптор, возвращается результат вызова метода `__get__()` дескриптора. Также проверяются все базовые классы.\n",
    "- Если в `a.__dict__` существует запись с именем attrname, возвращается значение этой записи.\n",
    "- Проверяется `a.__class__.__dict__`, если в нём существует запись с attrname и это non-data дескриптор, возвращается результат `__get__()` дескриптора, если запись существует и там не дескриптор, возвращается значение записи. Также обыскиваются базовые классы.\n",
    "- Если существует метод `a.__class__.__getattr__()`, он вызывается и возвращается его результат. Если такого метода нет — выкидывается `AttributeError`.\n",
    "\n",
    "## Общий алгоритм назначения атрибута\n",
    "\n",
    "Чтобы установить значение value атрибута attrname экземпляра a:\n",
    "- Если существует метод `a.__class__.__setattr__()`, он вызывается.\n",
    "- Проверяется `a.__class__.__dict__`, если в нём есть запись с attrname и это дескриптор данных — вызывается метод `__set__()` дескриптора. Также проверяются базовые классы.\n",
    "- `a.__dict__` добавляется запись value с ключом attrname."
   ]
  },
  {
   "cell_type": "markdown",
   "metadata": {},
   "source": [
    "## Задание\n",
    "\n",
    "Доработать класс `Field` так, чтобы вдобавок к реализованному функционалу появились следующие возможности:\n",
    "\n",
    "`field = Field()`\n",
    "- Запись значения в ячейку:\n",
    "    - `field.a1 = 25` - эквивалентно `field['a1'] = 25`\n",
    "    - `field.A1 = 25` - то же самое\n",
    "- Получение значения:\n",
    "`field['b', 2] = 100\n",
    "field.b2\n",
    "field.B2`\n",
    "\n",
    "- Удаление значения:\n",
    "`del field.a1`, `del field.A1` - эквивалентно `del field['a', 1]`\n",
    "\n",
    "Таким образом, внутри класса `Field` методы работы с атрибутами должны работать с тем же объектом, в котором хранятся значения, обрабатываемые в методах `__setitem__`, `__getitem__`, `__delitem__`.\n",
    "\n",
    "Кроме того, обычное присвоение и получение атрибутов (тех, которые не являются адресом ячейки данных нашего класса) должно производиться по стандартному алгоритму питоновских объектов, т.е. они должны храниться в словаре `__dict__` объекта.\n",
    "\n",
    "`field = Field()\n",
    "field.abcde = 125\n",
    "field.__dict__['abcde'] == 125`\n",
    "\n",
    "Для таких атрибутов также должны быть реализованы получение, присваивание и удаление значения."
   ]
  },
  {
   "cell_type": "code",
   "execution_count": 7,
   "metadata": {},
   "outputs": [],
   "source": [
    "#не проверяла\n",
    "def __setattr__(self, key, value):\n",
    "    if key.startswith('_') or key in self.__dict__:\n",
    "        # Обработка обычных атрибутов\n",
    "        super().__setattr__(key, value)\n",
    "    else:\n",
    "        # Обработка атрибутов как ключей\n",
    "        try:\n",
    "            normalized_key = self._normalize_key(key.lower())\n",
    "            self.data[normalized_key] = value\n",
    "        except (ValueError, TypeError) as e:\n",
    "            raise AttributeError(f\"Invalid attribute: {key}. Error: {e}\")\n",
    "\n",
    "def __getattr__(self, key):\n",
    "    if key.startswith('_') or key in self.__dict__:\n",
    "        # Обработка обычных атрибутов\n",
    "        return super().__getattribute__(key)\n",
    "    else:\n",
    "        # Обработка атрибутов как ключей\n",
    "        try:\n",
    "            normalized_key = self._normalize_key(key.lower())\n",
    "            return self.data[normalized_key]\n",
    "        except (KeyError, ValueError, TypeError) as e:\n",
    "            raise AttributeError(f\"Invalid attribute: {key}. Error: {e}\")\n",
    "\n",
    "def __delattr__(self, key):\n",
    "    if key.startswith('_') or key in self.__dict__:\n",
    "        # Обработка обычных атрибутов\n",
    "        super().__delattr__(key)\n",
    "    else:\n",
    "        # Обработка атрибутов как ключей\n",
    "        try:\n",
    "            normalized_key = self._normalize_key(key.lower())\n",
    "            del self.data[normalized_key]\n",
    "        except (KeyError, ValueError, TypeError) as e:\n",
    "            raise AttributeError(f\"Invalid attribute: {key}. Error: {e}\")"
   ]
  }
 ],
 "metadata": {
  "kernelspec": {
   "display_name": ".venv",
   "language": "python",
   "name": "python3"
  },
  "language_info": {
   "codemirror_mode": {
    "name": "ipython",
    "version": 3
   },
   "file_extension": ".py",
   "mimetype": "text/x-python",
   "name": "python",
   "nbconvert_exporter": "python",
   "pygments_lexer": "ipython3",
   "version": "3.13.0"
  }
 },
 "nbformat": 4,
 "nbformat_minor": 2
}
