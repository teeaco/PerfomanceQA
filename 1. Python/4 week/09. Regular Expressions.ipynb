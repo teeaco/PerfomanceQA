{
 "cells": [
  {
   "cell_type": "markdown",
   "metadata": {
    "colab_type": "text",
    "id": "oxH2eKKUaKQh"
   },
   "source": [
    "# Введение в регулярные выражения"
   ]
  },
  {
   "cell_type": "markdown",
   "metadata": {
    "colab_type": "text",
    "id": "zCwUtgwQbANM"
   },
   "source": [
    "Регулярное выражение — это строка, задающая шаблон поиска подстрок в тексте.\n",
    "\n",
    "Чаще всего регулярные выражения используются для:\n",
    "\n",
    "- поиска в строке;\n",
    "- разбиения строки на подстроки;\n",
    "- замены части строки.\n",
    "\n",
    "В Python для работы с регулярными выражениями необходимо подключить модуль `re`."
   ]
  },
  {
   "cell_type": "code",
   "execution_count": 1,
   "metadata": {
    "colab": {},
    "colab_type": "code",
    "id": "k0vtpIHqZ249"
   },
   "outputs": [],
   "source": [
    "import re"
   ]
  },
  {
   "cell_type": "markdown",
   "metadata": {
    "colab_type": "text",
    "id": "lcltyApPwtOE"
   },
   "source": [
    "## Основы синтаксиса регулярных выражений"
   ]
  },
  {
   "cell_type": "markdown",
   "metadata": {
    "colab_type": "text",
    "id": "go2AJUg8bfoU"
   },
   "source": [
    "Регулярные выражения используют два типа символов:\n",
    "\n",
    "- **специальные символы**: как следует из названия, у этих символов есть специальные значения. Аналогично символу *, который как правило означает «любой символ» (но в регулярных выражениях работает немного иначе, о чем поговорим ниже);\n",
    "- **литералы** (например: a, b, 1, 2 и т. д.).\n",
    "\n",
    "Любая строка (в которой нет символов `.^$*+?{}[]\\|()`) сама по себе является регулярным выражением. Так, выражению Хаха будет соответствовать строка “Хаха” и только она.\n",
    "\n",
    "Регулярные выражения являются регистрозависимыми, поэтому строка “хаха” (с маленькой буквы) уже не будет соответствовать выражению выше. Подобно строкам в языке Python, регулярные выражения имеют спецсимволы `.^$*+?{}[]\\|()`, которые в регулярках являются управляющими конструкциями. Для написания их просто как символов требуется их экранировать, для чего нужно поставить перед ними знак `\\`. Так же, как и в питоне, в регулярных выражения выражение `\\n` соответствует концу строки, а `\\t` — табуляции.\n",
    "\n",
    "### Группирующие скобки (...)\n",
    "\n",
    "Если в шаблоне регулярного выражения встречаются скобки (...), то они становятся группирующими. К этим группам можно обращаться по номеру \\n. Это особенно полезно при замене."
   ]
  },
  {
   "cell_type": "markdown",
   "metadata": {
    "colab_type": "text",
    "id": "5vUqNq5XxaTL"
   },
   "source": [
    "**Квантификаторы**\n",
    "\n",
    "|Шаблон|Описание|\n",
    "|---|:---|\n",
    "|n*|0 или более символов n|\n",
    "|n+|1 или более символов n|\n",
    "|n?|0 или 1 символ n|\n",
    "|n{2}|ровно 2 символа n|\n",
    "|n{2,}|2 или более символа n|\n",
    "|n{2,4}|2, 3 или 4 символа n|\n",
    "\n",
    "**Диапазоны**\n",
    "\n",
    "|Шаблон|Описание|\n",
    "|---|:---|\n",
    "|.|Любой символ, кроме новой строки (`\\n`)|\n",
    "|(A\\|B)|A или B|\n",
    "|(...)|Группа символов (каждой из них соответствует порядковый номер, на который можно ссылаться - \\1, \\2, ... \\n)|\n",
    "|[ABC]|A, B или C|\n",
    "|[^ABC]|Не(A, B или C)|\n",
    "|[A-Z]|Символы от A до Z, верхний регистр|\n",
    "|[0-9]|Цифры от 0 до 9|\n",
    "|[A-Z0-9]|Символы от A до Z ицифры от 0 до 9|\n",
    "|\\n|ссылка на группу|\n",
    "\n",
    "**Якори**\n",
    "\n",
    "|Шаблон|Описание|\n",
    "|---|:---|\n",
    "|^|Начало строки|\n",
    "|$|Конец строки|\n",
    "\n",
    "**Классы символов**\n",
    "\n",
    "|Шаблон|Описание|\n",
    "|---|:---|\n",
    "|\\w|Word (a-z, A-Z, 0-9, включая `_`))\n",
    "|\\W|Non-word|\n",
    "|\\d|Digit (0-9)|\n",
    "|\\D|Non-digit|\n",
    "|\\s|Пробел (включая табуляцию и прочие виды отступов)|\n",
    "|\\S|Не пробел|\n",
    "|\\b|Начало или конец слова (слева пусто или не-буква, справа буква и наоборот)|\n",
    "|\\B|Не граница слова: либо и слева, и справа буквы, либо и слева, и справа НЕ буквы|\n",
    "|\\0|NUL|\n",
    "|\\n|Новая строка|\n",
    "\n",
    "![Позиции](09/09-03.png)\n",
    "\n",
    "**Позиционная проверка (lookahead, lookbehind)**\n",
    "\n",
    "|Шаблон|Описание|\n",
    "|---|:---|\n",
    "|n(?=o)|Положительный Lookahead, ищем n, за которым следует o|\n",
    "|n(?!o)|Отрицательный lookahead, ищем n, за которым не следует o|\n",
    "|(?<=o)n|Положительный Lookbehind, ищем n, которому предшествует o|\n",
    "|(?<!o)n|Отрицательный lookbehind, ищем n, которому не предшествует o|\n",
    "\n",
    "![Lookahead, lookbehind](09/09-02.png)"
   ]
  },
  {
   "cell_type": "markdown",
   "metadata": {
    "colab_type": "text",
    "id": "t68amDazbw3t"
   },
   "source": [
    "## Методы работы с регулярными выражениями в Python\n",
    "\n",
    "Вот наиболее часто используемые методы для работы с регулярными выражениями:\n",
    "\n",
    "- re.match()\n",
    "- re.search()\n",
    "- re.findall()\n",
    "- re.split()\n",
    "- re.sub()\n",
    "- re.compile()"
   ]
  },
  {
   "cell_type": "markdown",
   "metadata": {
    "colab_type": "text",
    "id": "MoyCw483rmbN"
   },
   "source": [
    "### re.match(pattern, string)\n",
    "\n",
    "Этот метод ищет по заданному шаблону в начале строки. Например, если мы вызовем метод `match()` на строке «AV Analytics AV» с шаблоном «AV», то он завершится успешно. Однако если мы будем искать «Analytics», то результат будет отрицательный."
   ]
  },
  {
   "cell_type": "code",
   "execution_count": 10,
   "metadata": {
    "colab": {
     "base_uri": "https://localhost:8080/",
     "height": 136
    },
    "colab_type": "code",
    "executionInfo": {
     "elapsed": 1061,
     "status": "ok",
     "timestamp": 1575379458651,
     "user": {
      "displayName": "Надежда Демиденко",
      "photoUrl": "https://lh3.googleusercontent.com/a-/AAuE7mA6D7k5OgtG9hzPe8Abs8DfOKAXQoTXaPfn7EY=s64",
      "userId": "05224310221243935536"
     },
     "user_tz": -180
    },
    "id": "AsKoX008rwFt",
    "outputId": "a4edf6b9-4c10-42f6-8607-18d1d1250572"
   },
   "outputs": [
    {
     "name": "stdout",
     "output_type": "stream",
     "text": [
      "<re.Match object; span=(0, 4), match='AV A'>\n",
      "AV A\n"
     ]
    }
   ],
   "source": [
    "result = re.match(r'AV A', 'AV Analytics Vidhya AV')\n",
    "print(result)\n",
    "\n",
    "# Чтобы вывести искомый паттерн, используется метод group()\n",
    "print(result.group())"
   ]
  },
  {
   "cell_type": "code",
   "execution_count": 7,
   "metadata": {},
   "outputs": [
    {
     "name": "stdout",
     "output_type": "stream",
     "text": [
      "AV Anal\n",
      " Anal\n",
      "0\n",
      "7\n"
     ]
    }
   ],
   "source": [
    "# group() или group(0) выведет весь паттерн\n",
    "# group(n) выведет скобочную группу, если она есть\n",
    "result = re.match(r'AV(.{5})', 'AV Analytics Vidhya AV') # В первую группу попадут любые 3 символа после AV\n",
    "print(result.group())\n",
    "print(result.group(1))\n",
    "\n",
    "# Выведем начальную и конечную позицию найденного паттерна\n",
    "print(result.start())\n",
    "print(result.end())"
   ]
  },
  {
   "cell_type": "code",
   "execution_count": 8,
   "metadata": {},
   "outputs": [
    {
     "name": "stdout",
     "output_type": "stream",
     "text": [
      "None\n"
     ]
    }
   ],
   "source": [
    "result = re.match(r'Analytics', 'AV Analytics Vidhya AV')\n",
    "print(result)"
   ]
  },
  {
   "cell_type": "markdown",
   "metadata": {
    "colab_type": "text",
    "id": "pJmGKsX9uM_I"
   },
   "source": [
    "### re.search(pattern, string)\n",
    "\n",
    "Этот метод похож на `match()`, но он ищет не только в начале строки. В отличие от предыдущего, `search()` вернет объект, если мы попытаемся найти «Analytics».\n",
    "\n",
    "Метод `search()` ищет по всей строке, но возвращает только первое найденное совпадение."
   ]
  },
  {
   "cell_type": "code",
   "execution_count": 12,
   "metadata": {
    "colab": {
     "base_uri": "https://localhost:8080/",
     "height": 34
    },
    "colab_type": "code",
    "executionInfo": {
     "elapsed": 903,
     "status": "ok",
     "timestamp": 1575376030001,
     "user": {
      "displayName": "Надежда Демиденко",
      "photoUrl": "https://lh3.googleusercontent.com/a-/AAuE7mA6D7k5OgtG9hzPe8Abs8DfOKAXQoTXaPfn7EY=s64",
      "userId": "05224310221243935536"
     },
     "user_tz": -180
    },
    "id": "aloNd-ckudMt",
    "outputId": "d422784c-b8bf-48ab-8d9a-f0c8d3c1a63e"
   },
   "outputs": [
    {
     "name": "stdout",
     "output_type": "stream",
     "text": [
      "Analytic\n"
     ]
    }
   ],
   "source": [
    "result = re.search(r'Analytics', 'AV Analytics Vidhya AV')\n",
    "print(result.group(0))"
   ]
  },
  {
   "cell_type": "markdown",
   "metadata": {
    "colab_type": "text",
    "id": "-SWrzpy3uqmQ"
   },
   "source": [
    "### re.findall(pattern, string)\n",
    "\n",
    "Этот метод возвращает список всех найденных совпадений. У метода `findall()` нет ограничений на поиск в начале или конце строки. Если мы будем искать «AV» в нашей строке, он вернет все вхождения «AV». Для поиска рекомендуется использовать именно `findall()`, так как он может работать и как `re.search()`, и как `re.match()`."
   ]
  },
  {
   "cell_type": "code",
   "execution_count": 14,
   "metadata": {
    "colab": {
     "base_uri": "https://localhost:8080/",
     "height": 34
    },
    "colab_type": "code",
    "executionInfo": {
     "elapsed": 950,
     "status": "ok",
     "timestamp": 1575376106597,
     "user": {
      "displayName": "Надежда Демиденко",
      "photoUrl": "https://lh3.googleusercontent.com/a-/AAuE7mA6D7k5OgtG9hzPe8Abs8DfOKAXQoTXaPfn7EY=s64",
      "userId": "05224310221243935536"
     },
     "user_tz": -180
    },
    "id": "w_D1OcbFuvXf",
    "outputId": "1acc98bf-3958-49e5-880d-3e9dac6b2131"
   },
   "outputs": [
    {
     "name": "stdout",
     "output_type": "stream",
     "text": [
      "['A', 'A', 'A']\n"
     ]
    }
   ],
   "source": [
    "result = re.findall(r'\\w+', 'AV Analytics Vidhya AV')\n",
    "print(result)"
   ]
  },
  {
   "cell_type": "markdown",
   "metadata": {
    "colab_type": "text",
    "id": "SyIYSol8vDA4"
   },
   "source": [
    "### re.split(pattern, string, [maxsplit=0])\n",
    "\n",
    "Этот метод разделяет строку по заданному шаблону.\n",
    "\n",
    "Метод `split()` принимает также аргумент `maxsplit` со значением по умолчанию, равным 0. В данном случае он разделит строку столько раз, сколько возможно, но если указать этот аргумент, то разделение будет произведено не более указанного количества раз."
   ]
  },
  {
   "cell_type": "code",
   "execution_count": 15,
   "metadata": {
    "colab": {
     "base_uri": "https://localhost:8080/",
     "height": 68
    },
    "colab_type": "code",
    "executionInfo": {
     "elapsed": 939,
     "status": "ok",
     "timestamp": 1575376261706,
     "user": {
      "displayName": "Надежда Демиденко",
      "photoUrl": "https://lh3.googleusercontent.com/a-/AAuE7mA6D7k5OgtG9hzPe8Abs8DfOKAXQoTXaPfn7EY=s64",
      "userId": "05224310221243935536"
     },
     "user_tz": -180
    },
    "id": "44v1z3ZQaJwm",
    "outputId": "400cb96b-21f1-47e7-8c64-53bcd6a2a5e9"
   },
   "outputs": [
    {
     "name": "stdout",
     "output_type": "stream",
     "text": [
      "['Anal', 'tics']\n",
      "['Analyt', 'cs V', 'dhya']\n",
      "['Analyt', 'cs Vidhya']\n",
      "['a', 'b', 'c', 'd', '', 'e', '']\n"
     ]
    }
   ],
   "source": [
    "result = re.split(r'y', 'Analytics')\n",
    "print(result)\n",
    "\n",
    "result = re.split(r'i', 'Analytics Vidhya')\n",
    "print(result)\n",
    "\n",
    "result = re.split(r'i', 'Analytics Vidhya', maxsplit=1)\n",
    "print(result)\n",
    "\n",
    "result = re.split(r'\\d', 'a1b2c3d45e6')\n",
    "print(result)"
   ]
  },
  {
   "cell_type": "markdown",
   "metadata": {
    "colab_type": "text",
    "id": "3y7K0ynqvnHz"
   },
   "source": [
    "### re.sub(pattern, repl, string)\n",
    "\n",
    "Этот метод ищет шаблон в строке и заменяет его на указанную подстроку. Если шаблон не найден, строка остается неизменной."
   ]
  },
  {
   "cell_type": "code",
   "execution_count": 16,
   "metadata": {
    "colab": {
     "base_uri": "https://localhost:8080/",
     "height": 34
    },
    "colab_type": "code",
    "executionInfo": {
     "elapsed": 1138,
     "status": "ok",
     "timestamp": 1575376308745,
     "user": {
      "displayName": "Надежда Демиденко",
      "photoUrl": "https://lh3.googleusercontent.com/a-/AAuE7mA6D7k5OgtG9hzPe8Abs8DfOKAXQoTXaPfn7EY=s64",
      "userId": "05224310221243935536"
     },
     "user_tz": -180
    },
    "id": "AZN7UNnKvqBH",
    "outputId": "e69cc8a6-6aa0-454c-a412-ec9e0a05a025"
   },
   "outputs": [
    {
     "name": "stdout",
     "output_type": "stream",
     "text": [
      "AV is largest Analytics community of the World\n"
     ]
    }
   ],
   "source": [
    "result = re.sub(r'India', 'the World', 'AV is largest Analytics community of India')\n",
    "print(result)"
   ]
  },
  {
   "cell_type": "code",
   "execution_count": 17,
   "metadata": {},
   "outputs": [
    {
     "name": "stdout",
     "output_type": "stream",
     "text": [
      "a-b-c-d------g\n"
     ]
    }
   ],
   "source": [
    "result = re.sub(r'\\d', '-', 'a1b2c3d456567g')\n",
    "print(result)"
   ]
  },
  {
   "cell_type": "markdown",
   "metadata": {
    "colab_type": "text",
    "id": "I-Y77SLfvyg5"
   },
   "source": [
    "### re.compile(pattern, repl, string)\n",
    "\n",
    "Мы можем собрать регулярное выражение в отдельный объект, который может быть использован для поиска. Это также избавляет от переписывания одного и того же выражения."
   ]
  },
  {
   "cell_type": "code",
   "execution_count": 13,
   "metadata": {
    "colab": {
     "base_uri": "https://localhost:8080/",
     "height": 51
    },
    "colab_type": "code",
    "executionInfo": {
     "elapsed": 1116,
     "status": "ok",
     "timestamp": 1575376396683,
     "user": {
      "displayName": "Надежда Демиденко",
      "photoUrl": "https://lh3.googleusercontent.com/a-/AAuE7mA6D7k5OgtG9hzPe8Abs8DfOKAXQoTXaPfn7EY=s64",
      "userId": "05224310221243935536"
     },
     "user_tz": -180
    },
    "id": "YoDSuqiZv7_T",
    "outputId": "f22772d3-cea6-43c4-a430-fb9631011bed"
   },
   "outputs": [
    {
     "name": "stdout",
     "output_type": "stream",
     "text": [
      "['AV', 'AV']\n",
      "['AV']\n"
     ]
    }
   ],
   "source": [
    "pattern = re.compile('AV')\n",
    "\n",
    "result = pattern.findall('AV Analytics Vidhya AV')\n",
    "print(result)\n",
    "\n",
    "result2 = pattern.findall('AV is largest analytics community of India')\n",
    "print(result2)"
   ]
  },
  {
   "cell_type": "markdown",
   "metadata": {
    "colab_type": "text",
    "id": "1Nuxho8aHA3R"
   },
   "source": [
    "## Использование дополнительных флагов в питоне\n",
    "\n",
    "Каждой из функций, перечисленных выше, можно дать дополнительный параметр flags, что несколько изменит режим работы регулярок. В качестве значения нужно передать сумму выбранных констант, вот они:\n",
    "\n",
    "|Константа|Её смысл|\n",
    "|---|:---|\n",
    "|re.ASCII|По умолчанию \\w, \\W, \\b, \\B, \\d, \\D, \\s, \\S соответствуют все юникодные символы с соответствующим качеством. Например, \\d соответствуют не только арабские цифры, но и вот такие: ٠١٢٣٤٥٦٧٨٩|\n",
    "|re.ASCII|Ускоряет работу, если все соответствия лежат внутри ASCII|\n",
    "|re.IGNORECASE|Не различать заглавные и маленькие буквы. Работает медленнее, но иногда удобно|\n",
    "|re.MULTILINE|Специальные символы ^ и $ соответствуют началу и концу каждой строки|\n",
    "|re.DOTALL|По умолчанию символ \\n конца строки не подходит под точку. С этим флагом точка — вообще любой символ|"
   ]
  },
  {
   "cell_type": "code",
   "execution_count": 18,
   "metadata": {
    "colab": {
     "base_uri": "https://localhost:8080/",
     "height": 204
    },
    "colab_type": "code",
    "executionInfo": {
     "elapsed": 955,
     "status": "ok",
     "timestamp": 1575383024408,
     "user": {
      "displayName": "Надежда Демиденко",
      "photoUrl": "https://lh3.googleusercontent.com/a-/AAuE7mA6D7k5OgtG9hzPe8Abs8DfOKAXQoTXaPfn7EY=s64",
      "userId": "05224310221243935536"
     },
     "user_tz": -180
    },
    "id": "vHfrmSxQJBbT",
    "outputId": "1a3c6ebd-19ae-4008-f14b-e4e0dadc2808"
   },
   "outputs": [
    {
     "name": "stdout",
     "output_type": "stream",
     "text": [
      "['12', '٦٧']\n",
      "['Hello', 'мир']\n",
      "['12']\n",
      "['Hello']\n",
      "['ааааа', 'яяяя']\n",
      "['ОООО', 'ааааа', 'ЫЫЫЫ', 'яяяя']\n",
      "\n",
      "[]\n",
      "['Торт\\nс']\n",
      "['вишней1', 'вишней2']\n",
      "['вишней2']\n"
     ]
    }
   ],
   "source": [
    "print(re.findall(r'\\d+', '12 + ٦٧'))\n",
    "print(re.findall(r'\\w+', 'Hello, мир!'))\n",
    "print(re.findall(r'\\d+', '12 + ٦٧', flags=re.ASCII))\n",
    "print(re.findall(r'\\w+', 'Hello, мир!', flags=re.ASCII))\n",
    "print(re.findall(r'[уеыаоэяию]+', 'ОООО ааааа ррррр ЫЫЫЫ яяяя'))\n",
    "print(re.findall(r'[уеыаоэяию]+', 'ОООО ааааа ррррр ЫЫЫЫ яяяя', flags=re.IGNORECASE))\n",
    "\n",
    "print()\n",
    "text = r\"\"\" \n",
    "Торт\n",
    "с вишней1 \n",
    "вишней2 \n",
    "\"\"\" \n",
    "\n",
    "print(re.findall(r'Торт.с', text)) \n",
    "print(re.findall(r'Торт.с', text, flags=re.DOTALL)) \n",
    "print(re.findall(r'виш\\w+', text, flags=re.MULTILINE)) \n",
    "print(re.findall(r'^виш\\w+', text, flags=re.MULTILINE)) "
   ]
  },
  {
   "cell_type": "markdown",
   "metadata": {
    "colab_type": "text",
    "id": "n8JmELG24iH3"
   },
   "source": [
    "## Примеры некоторых регулярных выражений"
   ]
  },
  {
   "cell_type": "code",
   "execution_count": 19,
   "metadata": {
    "colab": {
     "base_uri": "https://localhost:8080/",
     "height": 68
    },
    "colab_type": "code",
    "executionInfo": {
     "elapsed": 1570,
     "status": "ok",
     "timestamp": 1575378672104,
     "user": {
      "displayName": "Надежда Демиденко",
      "photoUrl": "https://lh3.googleusercontent.com/a-/AAuE7mA6D7k5OgtG9hzPe8Abs8DfOKAXQoTXaPfn7EY=s64",
      "userId": "05224310221243935536"
     },
     "user_tz": -180
    },
    "id": "mL7aSYR64l5c",
    "outputId": "869b59b0-8fec-43e8-a7e8-b448b08f27d9"
   },
   "outputs": [
    {
     "name": "stdout",
     "output_type": "stream",
     "text": [
      "89999999999\tyes\n",
      "79979799999\tyes\n",
      "email@email.com\tno\n",
      "7999\tno\n",
      "8999999-999\tno\n",
      "799999x9999\tno\n"
     ]
    }
   ],
   "source": [
    "# Проверить телефонный номер (номер должен быть длиной 11 знаков и начинаться с 7 или 8)\n",
    "\n",
    "li = ['89999999999', '79979799999', 'email@email.com', '7999', '8999999-999', '799999x9999']\n",
    "\n",
    "pattern = re.compile(r'[78][0-9]{10}$')\n",
    "\n",
    "for val in li:\n",
    "    if pattern.match(val):\n",
    "        print(val, 'yes', sep=\"\\t\")\n",
    "    else:\n",
    "        print(val, 'no', sep=\"\\t\")"
   ]
  },
  {
   "cell_type": "code",
   "execution_count": 20,
   "metadata": {
    "colab": {
     "base_uri": "https://localhost:8080/",
     "height": 68
    },
    "colab_type": "code",
    "executionInfo": {
     "elapsed": 908,
     "status": "ok",
     "timestamp": 1575379747636,
     "user": {
      "displayName": "Надежда Демиденко",
      "photoUrl": "https://lh3.googleusercontent.com/a-/AAuE7mA6D7k5OgtG9hzPe8Abs8DfOKAXQoTXaPfn7EY=s64",
      "userId": "05224310221243935536"
     },
     "user_tz": -180
    },
    "id": "68yr9ObU8upl",
    "outputId": "c63b0017-9da3-4bdc-faf1-11d9634af581"
   },
   "outputs": [
    {
     "name": "stdout",
     "output_type": "stream",
     "text": [
      "Найдена подстрока >   Опять45   < с позиции 3 до 16\n",
      "Группа букв >Опять< с позиции 6 до 11\n",
      "Группа цифр >45< с позиции 11 до 13\n"
     ]
    }
   ],
   "source": [
    "# Пример с группирующими скобками\n",
    "\n",
    "pattern = r'\\s*([А-Яа-яЁё]+)(\\d+)\\s*' \n",
    "string = r'---   Опять45   ---'\n",
    "\n",
    "match = re.search(pattern, string)\n",
    "\n",
    "print(f'Найдена подстрока >{match[0]}< с позиции {match.start(0)} до {match.end(0)}') \n",
    "print(f'Группа букв >{match[1]}< с позиции {match.start(1)} до {match.end(1)}') \n",
    "print(f'Группа цифр >{match[2]}< с позиции {match.start(2)} до {match.end(2)}') "
   ]
  },
  {
   "cell_type": "markdown",
   "metadata": {
    "colab_type": "text",
    "id": "EeQTDBhZ9Brf"
   },
   "source": [
    "![Визуализация регулярного выражения](09/09-00.png)\n",
    "\n",
    "![Группы регулярного выражения](09/09-01.png)"
   ]
  },
  {
   "cell_type": "code",
   "execution_count": 20,
   "metadata": {
    "colab": {
     "base_uri": "https://localhost:8080/",
     "height": 34
    },
    "colab_type": "code",
    "executionInfo": {
     "elapsed": 1071,
     "status": "ok",
     "timestamp": 1575381769828,
     "user": {
      "displayName": "Надежда Демиденко",
      "photoUrl": "https://lh3.googleusercontent.com/a-/AAuE7mA6D7k5OgtG9hzPe8Abs8DfOKAXQoTXaPfn7EY=s64",
      "userId": "05224310221243935536"
     },
     "user_tz": -180
    },
    "id": "AEft7OchEc17",
    "outputId": "778e908f-0029-43e4-e083-53ead5061044"
   },
   "outputs": [
    {
     "name": "stdout",
     "output_type": "stream",
     "text": [
      "We arrive on 25.03.2018. So you are welcome after 01.04.2018.\n"
     ]
    }
   ],
   "source": [
    "# Использование групп при заменах\n",
    "\n",
    "text = \"We arrive on 03/25/2018. So you are welcome after 04/01/2018.\" \n",
    "print(re.sub(r'(\\d\\d)/(\\d\\d)/(\\d{4})', r'\\2.\\1.\\3', text))"
   ]
  },
  {
   "cell_type": "code",
   "execution_count": 22,
   "metadata": {
    "colab": {
     "base_uri": "https://localhost:8080/",
     "height": 34
    },
    "colab_type": "code",
    "executionInfo": {
     "elapsed": 958,
     "status": "ok",
     "timestamp": 1575381825998,
     "user": {
      "displayName": "Надежда Демиденко",
      "photoUrl": "https://lh3.googleusercontent.com/a-/AAuE7mA6D7k5OgtG9hzPe8Abs8DfOKAXQoTXaPfn7EY=s64",
      "userId": "05224310221243935536"
     },
     "user_tz": -180
    },
    "id": "FU3LDi5ZEqmV",
    "outputId": "1c5fa410-c28a-4a8d-8605-67fdf70d18e7"
   },
   "outputs": [
    {
     "name": "stdout",
     "output_type": "stream",
     "text": [
      "Некоторые >censored(7)< слова подозрительны: >censored(3)<, >censored(7)<, >censored(15)<.\n"
     ]
    }
   ],
   "source": [
    "# Замена с обработкой шаблона функцией в питоне\n",
    "\n",
    "def repl(m): \n",
    "    return '>censored(' + str(len(m[0])) + ')<' \n",
    "\n",
    "text = \"Некоторые хорошие слова подозрительны: хор, хоровод, хороводоводовед.\" \n",
    "print(re.sub(r'\\b[хХxX]\\w*', repl, text)) "
   ]
  },
  {
   "cell_type": "code",
   "execution_count": 23,
   "metadata": {
    "colab": {
     "base_uri": "https://localhost:8080/",
     "height": 51
    },
    "colab_type": "code",
    "executionInfo": {
     "elapsed": 966,
     "status": "ok",
     "timestamp": 1575381868639,
     "user": {
      "displayName": "Надежда Демиденко",
      "photoUrl": "https://lh3.googleusercontent.com/a-/AAuE7mA6D7k5OgtG9hzPe8Abs8DfOKAXQoTXaPfn7EY=s64",
      "userId": "05224310221243935536"
     },
     "user_tz": -180
    },
    "id": "p5vz8-AkE2GD",
    "outputId": "011d8c20-348e-448e-daaf-8ce45e4d587b"
   },
   "outputs": [
    {
     "name": "stdout",
     "output_type": "stream",
     "text": [
      "<foo>Here we can <boo>find</boo> something interesting</foo>\n",
      "<foo>Here we can <foo>find</foo>\n"
     ]
    }
   ],
   "source": [
    "# Ссылки на группы при поиске\n",
    "\n",
    "text = \"SPAM <foo>Here we can <boo>find</boo> something interesting</foo> SPAM\" \n",
    "print(re.search(r'<(\\w+?)>.*?</\\1>', text)[0])\n",
    "\n",
    "text = \"SPAM <foo>Here we can <foo>find</foo> OH, NO MATCH HERE!</foo> SPAM\" \n",
    "print(re.search(r'<(\\w+?)>.*?</\\1>', text)[0]) "
   ]
  },
  {
   "cell_type": "code",
   "execution_count": 24,
   "metadata": {
    "colab": {
     "base_uri": "https://localhost:8080/",
     "height": 68
    },
    "colab_type": "code",
    "executionInfo": {
     "elapsed": 47757,
     "status": "ok",
     "timestamp": 1575469483718,
     "user": {
      "displayName": "Надежда Демиденко",
      "photoUrl": "https://lh3.googleusercontent.com/a-/AAuE7mA6D7k5OgtG9hzPe8Abs8DfOKAXQoTXaPfn7EY=s64",
      "userId": "05224310221243935536"
     },
     "user_tz": -180
    },
    "id": "svj1K8s_R9eU",
    "outputId": "10be291f-e038-4246-d7d7-83984ea31a67"
   },
   "outputs": [
    {
     "name": "stdout",
     "output_type": "stream",
     "text": [
      "rddddfgvvvvvggg fffffffffffffffffffffffffffff………….,knhgyffdfxcfgvhbjnkmljhytrdrty\n"
     ]
    }
   ],
   "source": [
    "# Приведение текста к печатному виду\n",
    "\n",
    "line = input('Введите строку:\\n')\n",
    "line = re.sub(r'- ', r'— ', line)\n",
    "line = re.sub(r'\"(.+?)\"', r'«\\1»', line)\n",
    "line = re.sub(r'\\.\\.\\.', '…', line)\n",
    "print(line)"
   ]
  },
  {
   "cell_type": "markdown",
   "metadata": {},
   "source": [
    "# Задание\n",
    "\n",
    "Написать функцию, которая на вход принимает строку, а на выход выдает булево значение (True или False), которое истинно, если полученная строка соответствует номеру телефона или адресу электронной почты."
   ]
  },
  {
   "cell_type": "code",
   "execution_count": 28,
   "metadata": {},
   "outputs": [
    {
     "name": "stdout",
     "output_type": "stream",
     "text": [
      "89999999999\tTrue\n",
      "79979799999\tTrue\n",
      "email@mail.com\tTrue\n",
      "7999\tFalse\n",
      "8999999-999\tFalse\n",
      "799999x9999\tFalse\n"
     ]
    }
   ],
   "source": [
    "# можно попрактиковаться тут\n",
    "#s = input()\n",
    "li = ['89999999999', '79979799999', 'email@mail.com', '7999', '8999999-999', '799999x9999']\n",
    "\n",
    "pattern = re.compile(r'[78][0-9]{10}$')\n",
    "pattern1 = re.compile(r'.*@mail\\.com$')\n",
    "\n",
    "for val in li:\n",
    "    if pattern.match(val):\n",
    "        print(val, 'True', sep=\"\\t\")\n",
    "    elif pattern1.match(val):\n",
    "        print(val, 'True', sep=\"\\t\")\n",
    "    else:\n",
    "        print(val, 'False', sep=\"\\t\")"
   ]
  }
 ],
 "metadata": {
  "colab": {
   "name": "topic09.ipynb",
   "provenance": []
  },
  "kernelspec": {
   "display_name": ".venv",
   "language": "python",
   "name": "python3"
  },
  "language_info": {
   "codemirror_mode": {
    "name": "ipython",
    "version": 3
   },
   "file_extension": ".py",
   "mimetype": "text/x-python",
   "name": "python",
   "nbconvert_exporter": "python",
   "pygments_lexer": "ipython3",
   "version": "3.13.0"
  }
 },
 "nbformat": 4,
 "nbformat_minor": 1
}
