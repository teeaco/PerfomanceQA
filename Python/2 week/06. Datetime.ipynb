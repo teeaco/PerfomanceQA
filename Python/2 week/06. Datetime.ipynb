{
 "cells": [
  {
   "cell_type": "markdown",
   "metadata": {
    "colab_type": "text",
    "id": "z6KIXtIxGi51"
   },
   "source": [
    "# Работа с датами и временем"
   ]
  },
  {
   "cell_type": "markdown",
   "metadata": {
    "colab_type": "text",
    "id": "VKusCvpOHMTJ"
   },
   "source": [
    "## Модуль datetime\n",
    "\n",
    "Основной функционал для работы с датами и временем сосредоточен в модуле **datetime**. Для того, чтобы работать с классами, отвечающими за дату и время, вначале необходимо подключить этот модуль:"
   ]
  },
  {
   "cell_type": "code",
   "execution_count": 2,
   "metadata": {
    "colab": {},
    "colab_type": "code",
    "id": "oBOM6cp1HhuF"
   },
   "outputs": [],
   "source": [
    "import datetime"
   ]
  },
  {
   "cell_type": "code",
   "execution_count": 5,
   "metadata": {},
   "outputs": [
    {
     "data": {
      "text/plain": [
       "<module 'datetime' from '/Users/romanov/opt/anaconda3/lib/python3.8/datetime.py'>"
      ]
     },
     "execution_count": 5,
     "metadata": {},
     "output_type": "execute_result"
    }
   ],
   "source": [
    "datetime"
   ]
  },
  {
   "cell_type": "markdown",
   "metadata": {
    "colab_type": "text",
    "id": "pQZpKkF_HmjR"
   },
   "source": [
    "### Класс date\n",
    "\n",
    "Для работы с датами воспользуемся классом `date`, который определен в модуле datetime. Для создания объекта `date` мы можем использовать конструктор `date`, который последовательно принимает три параметра: год, месяц и день."
   ]
  },
  {
   "cell_type": "code",
   "execution_count": 3,
   "metadata": {
    "colab": {
     "base_uri": "https://localhost:8080/",
     "height": 68
    },
    "colab_type": "code",
    "executionInfo": {
     "elapsed": 618,
     "status": "ok",
     "timestamp": 1575298888890,
     "user": {
      "displayName": "Надежда Демиденко",
      "photoUrl": "https://lh3.googleusercontent.com/a-/AAuE7mA6D7k5OgtG9hzPe8Abs8DfOKAXQoTXaPfn7EY=s64",
      "userId": "05224310221243935536"
     },
     "user_tz": -180
    },
    "id": "JkCrhsY_GUTt",
    "outputId": "df045a01-1974-49bd-81c4-6d6777df84ab"
   },
   "outputs": [
    {
     "name": "stdout",
     "output_type": "stream",
     "text": [
      "2017-05-02\n",
      "2025-01-29\n",
      "29.1.2025\n"
     ]
    }
   ],
   "source": [
    "yesterday = datetime.date(2017, 5, 2)\n",
    "print(yesterday)\n",
    "\n",
    "today = datetime.date.today() # метод today() получает текущую дату\n",
    "print(today)\n",
    "\n",
    "# С помощью свойств day, month, year можно получить соответственно день, месяц и год\n",
    "print(\"{}.{}.{}\".format(today.day, today.month, today.year))"
   ]
  },
  {
   "cell_type": "markdown",
   "metadata": {},
   "source": [
    "А еще можно посмотреть, например, какой день недели приходится на заданную дату. 0 значит понедельник, 1 - вторник и т.д."
   ]
  },
  {
   "cell_type": "code",
   "execution_count": 7,
   "metadata": {},
   "outputs": [
    {
     "data": {
      "text/plain": [
       "5"
      ]
     },
     "execution_count": 7,
     "metadata": {},
     "output_type": "execute_result"
    }
   ],
   "source": [
    "today.weekday()"
   ]
  },
  {
   "cell_type": "markdown",
   "metadata": {
    "colab_type": "text",
    "id": "RAvNrw99Iscg"
   },
   "source": [
    "### Класс time\n",
    "\n",
    "За работу с временем отвечает класс `time`. Используя его конструктор, можно создать объект времени. Конструктор последовательно принимает часы, минуты, секунды и микросекунды. Все параметры необязательные, и если мы какой-то параметр не передадим, то соответствующее значение будет инициализироваться нулем."
   ]
  },
  {
   "cell_type": "code",
   "execution_count": 4,
   "metadata": {
    "colab": {
     "base_uri": "https://localhost:8080/",
     "height": 68
    },
    "colab_type": "code",
    "executionInfo": {
     "elapsed": 633,
     "status": "ok",
     "timestamp": 1575299245637,
     "user": {
      "displayName": "Надежда Демиденко",
      "photoUrl": "https://lh3.googleusercontent.com/a-/AAuE7mA6D7k5OgtG9hzPe8Abs8DfOKAXQoTXaPfn7EY=s64",
      "userId": "05224310221243935536"
     },
     "user_tz": -180
    },
    "id": "O93bG7SEI5ai",
    "outputId": "188c9956-b64a-48bd-c27d-2079c5d10b14"
   },
   "outputs": [
    {
     "name": "stdout",
     "output_type": "stream",
     "text": [
      "00:00:00\n",
      "16:25:00\n",
      "16:25:45\n"
     ]
    }
   ],
   "source": [
    "current_time = datetime.time()\n",
    "print(current_time)\n",
    " \n",
    "current_time = datetime.time(16, 25)\n",
    "print(current_time)\n",
    " \n",
    "current_time = datetime.time(16, 25, 45)\n",
    "print(current_time) "
   ]
  },
  {
   "cell_type": "markdown",
   "metadata": {
    "colab_type": "text",
    "id": "JM3Pt77nJXwh"
   },
   "source": [
    "### Класс datetime\n",
    "\n",
    "Класс datetime из одноименного модуля объединяет возможности работы с датой и временем. \n",
    "\n",
    "Синтаксис:\n",
    "`datetime(year, month, day [, hour] [, min] [, sec] [, microsec])`\n",
    "\n",
    "Первые три параметра, представляющие год, месяц и день, являются обязательными. Остальные необязательные, и если мы не укажем для них значения, то по умолчанию они инициализируются нулем."
   ]
  },
  {
   "cell_type": "code",
   "execution_count": 26,
   "metadata": {
    "colab": {
     "base_uri": "https://localhost:8080/",
     "height": 119
    },
    "colab_type": "code",
    "executionInfo": {
     "elapsed": 649,
     "status": "ok",
     "timestamp": 1575299502555,
     "user": {
      "displayName": "Надежда Демиденко",
      "photoUrl": "https://lh3.googleusercontent.com/a-/AAuE7mA6D7k5OgtG9hzPe8Abs8DfOKAXQoTXaPfn7EY=s64",
      "userId": "05224310221243935536"
     },
     "user_tz": -180
    },
    "id": "dr7S-qtpJm-B",
    "outputId": "e3365922-3535-41ec-8dfc-7bab252f74b1"
   },
   "outputs": [
    {
     "name": "stdout",
     "output_type": "stream",
     "text": [
      "2017-05-10 00:00:00\n",
      "2017-05-10 04:30:00\n",
      "2025-01-29 15:09:55.792391\n",
      "29.1.2025  15:9\n",
      "2025-01-29\n",
      "15:09:55.792391\n"
     ]
    }
   ],
   "source": [
    "deadline = datetime.datetime(2017, 5, 10)\n",
    "print(deadline)\n",
    "\n",
    "deadline = datetime.datetime(2017, 5, 10, 4, 30)\n",
    "print(deadline)\n",
    "\n",
    "# Для получения текущих даты и времени можно вызвать метод now(): \n",
    "now = datetime.datetime.now()\n",
    "print(now)\n",
    "\n",
    "# С помощью свойств day, month, year, hour, minute, second можно получить отдельные значения даты и времени. \n",
    "\n",
    "print(\"{}.{}.{}  {}:{}\".format(now.day, now.month, now.year, now.hour, now.minute))\n",
    "\n",
    "# А через методы date() и time() можно получить отдельно дату и время соответственно. \n",
    "print(now.date())\n",
    "print(now.time())"
   ]
  },
  {
   "cell_type": "markdown",
   "metadata": {
    "colab_type": "text",
    "id": "NJDbf-1NID5V"
   },
   "source": [
    "### Класс timedelta\n",
    "\n",
    "Нередко при работе с датами возникает необходимость добавить к какой-либо дате определенный промежуток времени или, наоборот, вычесть некоторый период. И специально для таких операций в модуле datetime определен класс timedelta. Фактически этот класс определяет некоторый период времени.\n",
    "\n",
    "Для определения промежутка времени можно использовать конструктор timedelta:\n",
    "\n",
    "`timedelta([days] [, seconds] [, microseconds] [, milliseconds] [, minutes] [, hours] [, weeks])`\n",
    "\n",
    "В конструктор мы последовательно передаем дни, секунды, микросекунды, миллисекунды, минуты, часы и недели."
   ]
  },
  {
   "cell_type": "code",
   "execution_count": 27,
   "metadata": {
    "colab": {
     "base_uri": "https://localhost:8080/",
     "height": 119
    },
    "colab_type": "code",
    "executionInfo": {
     "elapsed": 539,
     "status": "ok",
     "timestamp": 1575635779819,
     "user": {
      "displayName": "Надежда Демиденко",
      "photoUrl": "https://lh3.googleusercontent.com/a-/AAuE7mA6D7k5OgtG9hzPe8Abs8DfOKAXQoTXaPfn7EY=s64",
      "userId": "05224310221243935536"
     },
     "user_tz": -180
    },
    "id": "FSf7aiBQMN-Z",
    "outputId": "e2730c7b-e9cc-4308-a4e2-c752b99f1ac3"
   },
   "outputs": [
    {
     "name": "stdout",
     "output_type": "stream",
     "text": [
      "3:30:00\n",
      "2 days, 0:00:00\n",
      "Дата и время через 2 дня, 3 часа и 30 минут:\n",
      "2025-01-31 18:43:36.670232\n",
      "Дата и время 10 дней, 5 часов назад от предыдущей даты:\n",
      "2025-01-21 13:43:36.670232\n"
     ]
    }
   ],
   "source": [
    "print(datetime.timedelta(hours=3, minutes=30))\n",
    "print(datetime.timedelta(2))\n",
    "\n",
    "# Сложение и вычитание дат\n",
    "print('Дата и время через 2 дня, 3 часа и 30 минут:')\n",
    "date1 = datetime.datetime.now() + datetime.timedelta(days=2, hours=3, minutes=30)\n",
    "print(date1)\n",
    "print('Дата и время 10 дней, 5 часов назад от предыдущей даты:')\n",
    "print(date1 - datetime.timedelta(days=10, hours=5))"
   ]
  },
  {
   "cell_type": "markdown",
   "metadata": {
    "colab_type": "text",
    "id": "cn5LvTiOOLTW"
   },
   "source": [
    "Поля `timedelta`:\n",
    "\n",
    "- **days** - возвращает количество дней\n",
    "- **seconds** - возвращает количество секунд\n",
    "- **microseconds** - возвращает количество микросекунд\n",
    "- **total_seconds** - возвращает общее количество секунд, куда входят и дни, и собственно секунды, и микросекунды."
   ]
  },
  {
   "cell_type": "code",
   "execution_count": 37,
   "metadata": {
    "colab": {
     "base_uri": "https://localhost:8080/",
     "height": 51
    },
    "colab_type": "code",
    "executionInfo": {
     "elapsed": 557,
     "status": "ok",
     "timestamp": 1575636366737,
     "user": {
      "displayName": "Надежда Демиденко",
      "photoUrl": "https://lh3.googleusercontent.com/a-/AAuE7mA6D7k5OgtG9hzPe8Abs8DfOKAXQoTXaPfn7EY=s64",
      "userId": "05224310221243935536"
     },
     "user_tz": -180
    },
    "id": "GqKwE9eFOL7-",
    "outputId": "e412b08d-26d2-4d2b-b10e-e0ee5447da69"
   },
   "outputs": [
    {
     "name": "stdout",
     "output_type": "stream",
     "text": [
      "До нового года осталось: 336 дней  31508 секунд   678853 микросекунд\n",
      "Всего: 29061908.678853 секунд\n"
     ]
    }
   ],
   "source": [
    "now = datetime.datetime.now()\n",
    "new_year = datetime.datetime(now.year+1, 1, 1) # Ближайший новый год\n",
    "period = new_year - now\n",
    "\n",
    "print(\"До нового года осталось: {} дней  {} секунд   {} микросекунд\".format(period.days, period.seconds, period.microseconds))\n",
    "print(\"Всего: {} секунд\".format(period.total_seconds()))"
   ]
  },
  {
   "cell_type": "markdown",
   "metadata": {
    "colab_type": "text",
    "id": "ahqt7qGhPeCj"
   },
   "source": [
    "Также как и строки и числа, даты можно сравнивать с помощью стандартных операторов сравнения:"
   ]
  },
  {
   "cell_type": "code",
   "execution_count": 38,
   "metadata": {
    "colab": {
     "base_uri": "https://localhost:8080/",
     "height": 34
    },
    "colab_type": "code",
    "executionInfo": {
     "elapsed": 596,
     "status": "ok",
     "timestamp": 1575636370100,
     "user": {
      "displayName": "Надежда Демиденко",
      "photoUrl": "https://lh3.googleusercontent.com/a-/AAuE7mA6D7k5OgtG9hzPe8Abs8DfOKAXQoTXaPfn7EY=s64",
      "userId": "05224310221243935536"
     },
     "user_tz": -180
    },
    "id": "qd7dm7BRPeni",
    "outputId": "f749cffe-6387-4294-cbb7-f410c7d5d18a"
   },
   "outputs": [
    {
     "name": "stdout",
     "output_type": "stream",
     "text": [
      "Срок сдачи проекта прошел.\n"
     ]
    }
   ],
   "source": [
    "now = datetime.datetime.now()\n",
    "deadline = datetime.datetime(2022, 10, 1)\n",
    "if now.date() > deadline.date():\n",
    "    print(\"Срок сдачи проекта прошел.\")\n",
    "elif now.day == deadline.day and now.month == deadline.month and now.year == deadline.year:\n",
    "    print(\"Срок сдачи проекта сегодня.\")\n",
    "else:\n",
    "    period = deadline - now\n",
    "    print(\"Осталось {} дней\".format(period.days))"
   ]
  },
  {
   "cell_type": "markdown",
   "metadata": {
    "colab_type": "text",
    "id": "APSuYlcwLHx0"
   },
   "source": [
    "### Преобразование из строки в дату и наоборот\n",
    "\n",
    "Из функциональности класса datetime следует отметить метод `strptime()`, который позволяет распарсить строку и преобразовать ее в дату. Этот метод принимает два параметра:\n",
    "\n",
    "`strptime(str, format)`\n",
    "\n",
    "Первый параметр str представляет строковое определение даты и времени, а второй параметр - формат, который определяет, как различные части даты и времени расположены в этой строке.\n",
    "\n",
    "Для определения формата мы можем использовать следующие коды:\n",
    "\n",
    "- `%d`: день месяца в виде числа\n",
    "- `%m`: порядковый номер месяца\n",
    "- `%b`: аббревиатура месяца\n",
    "- `%B`: полное название месяца\n",
    "- `%y`: год в виде 2-х чисел\n",
    "- `%Y`: год в виде 4-х чисел\n",
    "- `%H`: час в 24-х часовом формате\n",
    "- `%M`: минута\n",
    "- `%S`: секунда\n",
    "- `%a`: аббревиатура дня недели"
   ]
  },
  {
   "cell_type": "code",
   "execution_count": 39,
   "metadata": {
    "colab": {
     "base_uri": "https://localhost:8080/",
     "height": 68
    },
    "colab_type": "code",
    "executionInfo": {
     "elapsed": 773,
     "status": "ok",
     "timestamp": 1575300339443,
     "user": {
      "displayName": "Надежда Демиденко",
      "photoUrl": "https://lh3.googleusercontent.com/a-/AAuE7mA6D7k5OgtG9hzPe8Abs8DfOKAXQoTXaPfn7EY=s64",
      "userId": "05224310221243935536"
     },
     "user_tz": -180
    },
    "id": "x_B2aUMbLX75",
    "outputId": "24f0279e-d9f7-4ebc-bb40-5d32e1ae9f71"
   },
   "outputs": [
    {
     "name": "stdout",
     "output_type": "stream",
     "text": [
      "2017-05-22 00:00:00\n",
      "2017-05-22 12:30:00\n",
      "2017-05-22 12:30:00\n"
     ]
    }
   ],
   "source": [
    "deadline = datetime.datetime.strptime(\"22/05/2017\", \"%d/%m/%Y\")\n",
    "print(deadline)\n",
    " \n",
    "deadline = datetime.datetime.strptime(\"22/05/2017 12:30\", \"%d/%m/%Y %H:%M\")\n",
    "print(deadline)\n",
    " \n",
    "deadline = datetime.datetime.strptime(\"05-22-2017 12:30\", \"%m-%d-%Y %H:%M\")\n",
    "print(deadline) "
   ]
  },
  {
   "cell_type": "markdown",
   "metadata": {
    "colab_type": "text",
    "id": "jq6xEGTFNlg3"
   },
   "source": [
    "Метод `strftime()` наоборот преобразует время в строку заданного вида.\n",
    "\n",
    "`strftime(time, format)`"
   ]
  },
  {
   "cell_type": "code",
   "execution_count": 40,
   "metadata": {
    "colab": {
     "base_uri": "https://localhost:8080/",
     "height": 68
    },
    "colab_type": "code",
    "executionInfo": {
     "elapsed": 861,
     "status": "ok",
     "timestamp": 1575300626962,
     "user": {
      "displayName": "Надежда Демиденко",
      "photoUrl": "https://lh3.googleusercontent.com/a-/AAuE7mA6D7k5OgtG9hzPe8Abs8DfOKAXQoTXaPfn7EY=s64",
      "userId": "05224310221243935536"
     },
     "user_tz": -180
    },
    "id": "865MZxXGN58l",
    "outputId": "590ffc4e-4e05-4131-eb0c-c70d7ea1a8f5"
   },
   "outputs": [
    {
     "name": "stdout",
     "output_type": "stream",
     "text": [
      "Wed, January 29, 2025 - 15:19:07\n",
      "29.01.25 15:19:07\n",
      "2025/01/29 15-19-07\n"
     ]
    }
   ],
   "source": [
    "print(datetime.datetime.strftime(datetime.datetime.now(), \"%a, %B %d, %Y - %H:%M:%S\"))\n",
    "print(datetime.datetime.strftime(datetime.datetime.now(), \"%d.%m.%y %H:%M:%S\"))\n",
    "print(datetime.datetime.strftime(datetime.datetime.now(), \"%Y/%m/%d %H-%M-%S\"))"
   ]
  },
  {
   "cell_type": "markdown",
   "metadata": {
    "colab_type": "text",
    "id": "p-ysgVe1PX9H"
   },
   "source": [
    "## Модуль time\n",
    "\n",
    "Модуль **time** открывает разработчику Python доступ к нескольким связанным со временем функциям. Модуль основан на «эпохе», точке, с которой начинается время. Для систем Unix, эпоха началась в 1970 году."
   ]
  },
  {
   "cell_type": "code",
   "execution_count": 41,
   "metadata": {
    "colab": {
     "base_uri": "https://localhost:8080/",
     "height": 34
    },
    "colab_type": "code",
    "executionInfo": {
     "elapsed": 941,
     "status": "ok",
     "timestamp": 1575300760135,
     "user": {
      "displayName": "Надежда Демиденко",
      "photoUrl": "https://lh3.googleusercontent.com/a-/AAuE7mA6D7k5OgtG9hzPe8Abs8DfOKAXQoTXaPfn7EY=s64",
      "userId": "05224310221243935536"
     },
     "user_tz": -180
    },
    "id": "4Uh0giTJPc-1",
    "outputId": "be5da37d-030b-431d-b0e5-0d43ba03add0"
   },
   "outputs": [
    {
     "name": "stdout",
     "output_type": "stream",
     "text": [
      "time.struct_time(tm_year=1970, tm_mon=1, tm_mday=1, tm_hour=0, tm_min=0, tm_sec=0, tm_wday=3, tm_yday=1, tm_isdst=0)\n"
     ]
    }
   ],
   "source": [
    "import time\n",
    "print(time.gmtime(0))"
   ]
  },
  {
   "cell_type": "markdown",
   "metadata": {
    "colab_type": "text",
    "id": "7Q4n3Po8Pvjv"
   },
   "source": [
    "### time.ctime\n",
    "\n",
    "Функция `time.ctime` конвертирует время в секунды, начиная с эпохи, в строку, показывающую местное время. Если вы ничего не передадите данной функции, то настоящее время вернется обратно.\n",
    "\n",
    "Это можно применить, к примеру, в том случае, кода кому-нибудь нужно сохранить дату в секундах, начиная с эпохи, после чего конвертировать это в более удабриваемый формат."
   ]
  },
  {
   "cell_type": "code",
   "execution_count": 45,
   "metadata": {
    "colab": {
     "base_uri": "https://localhost:8080/",
     "height": 51
    },
    "colab_type": "code",
    "executionInfo": {
     "elapsed": 645,
     "status": "ok",
     "timestamp": 1575300891839,
     "user": {
      "displayName": "Надежда Демиденко",
      "photoUrl": "https://lh3.googleusercontent.com/a-/AAuE7mA6D7k5OgtG9hzPe8Abs8DfOKAXQoTXaPfn7EY=s64",
      "userId": "05224310221243935536"
     },
     "user_tz": -180
    },
    "id": "BtNBKQ8yP99r",
    "outputId": "722a899d-b3bf-43af-8c66-8bd5570e1b9a"
   },
   "outputs": [
    {
     "name": "stdout",
     "output_type": "stream",
     "text": [
      "Wed Jan 29 15:24:56 2025\n",
      "Sun Aug 10 08:19:50 2408\n"
     ]
    }
   ],
   "source": [
    "print(time.ctime())\n",
    "print(time.ctime(13841126390))"
   ]
  },
  {
   "cell_type": "markdown",
   "metadata": {
    "colab_type": "text",
    "id": "kyO4phPcQNaC"
   },
   "source": [
    "### time.sleep\n",
    "\n",
    "Функция time.sleep дает разработчику возможность приостановить выполнение его скрипта на определенное количество секунд. Это можно сравнить с добавлением функции «Пауза» в программу. Это может быть полезным, когда нужно подождать несколько секунд, пока закроется файл, или база данных закончит выполнять свою задачу. "
   ]
  },
  {
   "cell_type": "code",
   "execution_count": 47,
   "metadata": {
    "colab": {
     "base_uri": "https://localhost:8080/",
     "height": 102
    },
    "colab_type": "code",
    "executionInfo": {
     "elapsed": 10676,
     "status": "ok",
     "timestamp": 1575301035230,
     "user": {
      "displayName": "Надежда Демиденко",
      "photoUrl": "https://lh3.googleusercontent.com/a-/AAuE7mA6D7k5OgtG9hzPe8Abs8DfOKAXQoTXaPfn7EY=s64",
      "userId": "05224310221243935536"
     },
     "user_tz": -180
    },
    "id": "fkf_A5RLQbzd",
    "outputId": "386b18bb-2541-4f35-9d38-427fd5b48dd2"
   },
   "outputs": [
    {
     "name": "stdout",
     "output_type": "stream",
     "text": [
      "Slept for 2 seconds\n",
      "Slept for 2 seconds\n",
      "Slept for 2 seconds\n",
      "Slept for 2 seconds\n",
      "Slept for 2 seconds\n"
     ]
    }
   ],
   "source": [
    "for x in range(5):\n",
    "    time.sleep(2)\n",
    "    print(\"Slept for 2 seconds\")"
   ]
  },
  {
   "cell_type": "markdown",
   "metadata": {
    "colab_type": "text",
    "id": "nJ3d2LXsQp2m"
   },
   "source": [
    "### time.strftime\n",
    "\n",
    "Модуль time имеет функцию strftime, которая работает по схожему с версией datetime принципу. Разница заключается, главным образом, в том, что именно она принимает для ввода: кортеж, или объект struct_time, вроде тех, которые возвращаются после вызова time.gmtime() или time.localtime()."
   ]
  },
  {
   "cell_type": "code",
   "execution_count": 49,
   "metadata": {
    "colab": {
     "base_uri": "https://localhost:8080/",
     "height": 34
    },
    "colab_type": "code",
    "executionInfo": {
     "elapsed": 898,
     "status": "ok",
     "timestamp": 1575301172978,
     "user": {
      "displayName": "Надежда Демиденко",
      "photoUrl": "https://lh3.googleusercontent.com/a-/AAuE7mA6D7k5OgtG9hzPe8Abs8DfOKAXQoTXaPfn7EY=s64",
      "userId": "05224310221243935536"
     },
     "user_tz": -180
    },
    "id": "KLKaQLyGQ5dw",
    "outputId": "b00161a4-136d-4aeb-8c37-54139edf1197"
   },
   "outputs": [
    {
     "name": "stdout",
     "output_type": "stream",
     "text": [
      "<class 'str'>\n",
      "2025-01-29 15.29.58\n"
     ]
    }
   ],
   "source": [
    "a = time.strftime(\"%Y-%m-%d %H.%M.%S\", time.localtime())\n",
    "print(type(a))\n",
    "print(a)"
   ]
  },
  {
   "cell_type": "markdown",
   "metadata": {
    "colab_type": "text",
    "id": "k7npp98oRT7F"
   },
   "source": [
    "### time.time\n",
    "\n",
    "Функция time.time отображает время в секундах, начиная с эпохи, как число с плавающей запятой."
   ]
  },
  {
   "cell_type": "code",
   "execution_count": 53,
   "metadata": {
    "colab": {
     "base_uri": "https://localhost:8080/",
     "height": 34
    },
    "colab_type": "code",
    "executionInfo": {
     "elapsed": 631,
     "status": "ok",
     "timestamp": 1575301250922,
     "user": {
      "displayName": "Надежда Демиденко",
      "photoUrl": "https://lh3.googleusercontent.com/a-/AAuE7mA6D7k5OgtG9hzPe8Abs8DfOKAXQoTXaPfn7EY=s64",
      "userId": "05224310221243935536"
     },
     "user_tz": -180
    },
    "id": "GgycwjVaRV6H",
    "outputId": "6221a2d4-483f-440b-95ef-c8a6c69d3cd6"
   },
   "outputs": [
    {
     "name": "stdout",
     "output_type": "stream",
     "text": [
      "1738153949.5301292\n"
     ]
    }
   ],
   "source": [
    "x = time.time()\n",
    "print(x)"
   ]
  },
  {
   "cell_type": "markdown",
   "metadata": {},
   "source": [
    "## Задание\n",
    "\n",
    "С клавиатуры вводится дата в формате DD-MM-YYYY. Нужно вывести дату начала недели, к которой относится введенная дата (дата понедельника недели), в таком же формате. Проверить свое решение вы можете в контесте в задаче Даты."
   ]
  },
  {
   "cell_type": "code",
   "execution_count": 61,
   "metadata": {},
   "outputs": [
    {
     "name": "stdout",
     "output_type": "stream",
     "text": [
      "2025-01-27 00:00:00\n"
     ]
    }
   ],
   "source": [
    "# ваше решение\n",
    "s = input()\n",
    "datee = datetime.datetime.strptime(s, \"%d-%m-%Y\")\n",
    "num = datee.weekday()\n",
    "datee = datee - datetime.timedelta(days = num)\n",
    "print(datee)"
   ]
  }
 ],
 "metadata": {
  "colab": {
   "name": "topic07.ipynb",
   "provenance": []
  },
  "kernelspec": {
   "display_name": ".venv",
   "language": "python",
   "name": "python3"
  },
  "language_info": {
   "codemirror_mode": {
    "name": "ipython",
    "version": 3
   },
   "file_extension": ".py",
   "mimetype": "text/x-python",
   "name": "python",
   "nbconvert_exporter": "python",
   "pygments_lexer": "ipython3",
   "version": "3.13.0"
  }
 },
 "nbformat": 4,
 "nbformat_minor": 1
}
