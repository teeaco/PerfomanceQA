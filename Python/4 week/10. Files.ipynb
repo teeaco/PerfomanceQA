{
 "cells": [
  {
   "cell_type": "markdown",
   "metadata": {
    "colab_type": "text",
    "id": "PBPVYEMi3AOt"
   },
   "source": [
    "# Работа с файлами. Файловые дескрипторы. Оператор with"
   ]
  },
  {
   "cell_type": "markdown",
   "metadata": {
    "colab_type": "text",
    "id": "IzO22J_83DkX"
   },
   "source": [
    "Файл открывается встроенной функцией `open()`, которая открывает файл и возвращает соответствующий поток.\n",
    "\n",
    "`open(file, mode='r', buffering=None, encoding=None, errors=None, newline=None, closefd=True)`\n",
    "\n",
    "Подробнее о некоторых аргументах:\n",
    "\n",
    "- **file** - путь к файлу. Может быть как абсолютным, так и относительным.\n",
    "\n",
    "- **mode** - режим открытия файла.\n",
    "\n",
    "Режимы могут быть объединены, то есть, к примеру, `'rb'` - чтение в двоичном режиме. По умолчанию режим равен `'rt'`.\n",
    "\n",
    "|Режим|Обозначение|\n",
    "|---|:---|\n",
    "|'r'|открытие на чтение (является значением по умолчанию)|\n",
    "|'w'|открытие на запись, содержимое файла удаляется, если файла не существует, создается новый|\n",
    "|'x'|открытие на запись, если файла не существует, иначе исключение|\n",
    "|'a'|открытие на дозапись, информация добавляется в конец файла|\n",
    "|'b'|открытие в двоичном режиме|\n",
    "|'t'|открытие в текстовом режиме (является значением по умолчанию)|\n",
    "|'+'|открытие на чтение и запись|\n",
    "\n",
    "- **encoding** нужен только в текстовом режиме чтения файла. Этот аргумент задает кодировку.\n",
    "\n",
    "Закрывается файл соответственно функцией `close()`."
   ]
  },
  {
   "cell_type": "code",
   "execution_count": 1,
   "metadata": {
    "colab": {
     "base_uri": "https://localhost:8080/",
     "height": 214
    },
    "colab_type": "code",
    "executionInfo": {
     "elapsed": 1309,
     "status": "error",
     "timestamp": 1575641326980,
     "user": {
      "displayName": "Надежда Демиденко",
      "photoUrl": "https://lh3.googleusercontent.com/a-/AAuE7mA6D7k5OgtG9hzPe8Abs8DfOKAXQoTXaPfn7EY=s64",
      "userId": "05224310221243935536"
     },
     "user_tz": -180
    },
    "id": "3O9VK_bHYb-S",
    "outputId": "bd06af8b-3a02-4618-b4c6-352be274accd"
   },
   "outputs": [
    {
     "name": "stdout",
     "output_type": "stream",
     "text": [
      "<_io.TextIOWrapper name='10/text.txt' mode='r' encoding='cp1251'>\n"
     ]
    }
   ],
   "source": [
    "# Открываем файл\n",
    "f = open('10/text.txt', 'r')\n",
    "print(f)\n",
    "\n",
    "f.close()"
   ]
  },
  {
   "cell_type": "markdown",
   "metadata": {
    "colab_type": "text",
    "id": "O0ufJKP-X_sM"
   },
   "source": [
    "## Чтение данных из файла\n",
    "\n",
    "Существует несколько способов прочитать информацию из файла.\n",
    "\n",
    "- метод **`read()`**: читает файл целиком, если используется без аргумента, или n символов."
   ]
  },
  {
   "cell_type": "code",
   "execution_count": 2,
   "metadata": {
    "colab": {
     "base_uri": "https://localhost:8080/",
     "height": 68
    },
    "colab_type": "code",
    "executionInfo": {
     "elapsed": 628,
     "status": "ok",
     "timestamp": 1575454416681,
     "user": {
      "displayName": "Надежда Демиденко",
      "photoUrl": "https://lh3.googleusercontent.com/a-/AAuE7mA6D7k5OgtG9hzPe8Abs8DfOKAXQoTXaPfn7EY=s64",
      "userId": "05224310221243935536"
     },
     "user_tz": -180
    },
    "id": "ea4RXo5aVskV",
    "outputId": "9e5a8195-cc01-4ff1-f9f4-c7590824091b"
   },
   "outputs": [
    {
     "name": "stdout",
     "output_type": "stream",
     "text": [
      "Hello World\n",
      "The End.\n",
      "\n"
     ]
    }
   ],
   "source": [
    "f = open('10/text.txt', 'r')\n",
    "print(f.read())\n",
    "f.close()"
   ]
  },
  {
   "cell_type": "code",
   "execution_count": 6,
   "metadata": {
    "colab": {
     "base_uri": "https://localhost:8080/",
     "height": 85
    },
    "colab_type": "code",
    "executionInfo": {
     "elapsed": 654,
     "status": "ok",
     "timestamp": 1575454285595,
     "user": {
      "displayName": "Надежда Демиденко",
      "photoUrl": "https://lh3.googleusercontent.com/a-/AAuE7mA6D7k5OgtG9hzPe8Abs8DfOKAXQoTXaPfn7EY=s64",
      "userId": "05224310221243935536"
     },
     "user_tz": -180
    },
    "id": "s7ySrAUWY7Gf",
    "outputId": "89624b6c-e671-45a0-97c7-bd46129579a7"
   },
   "outputs": [
    {
     "name": "stdout",
     "output_type": "stream",
     "text": [
      "He\n",
      "Hello World\n",
      "The End.\n",
      "\n"
     ]
    }
   ],
   "source": [
    "f = open('10/text.txt', 'r')\n",
    "print(f.read(2))\n",
    "# Информация из потока может быть прочитана лишь единожды,\n",
    "# поэтому следующая строка возвращает остаток после предыдущей операции\n",
    "f.seek(0)\n",
    "print(f.read()) \n",
    "f.close()"
   ]
  },
  {
   "cell_type": "markdown",
   "metadata": {
    "colab_type": "text",
    "id": "CWg91_3MZh_X"
   },
   "source": [
    "- чтение построчно в цикле **for**"
   ]
  },
  {
   "cell_type": "code",
   "execution_count": 7,
   "metadata": {
    "colab": {
     "base_uri": "https://localhost:8080/",
     "height": 85
    },
    "colab_type": "code",
    "executionInfo": {
     "elapsed": 606,
     "status": "ok",
     "timestamp": 1575454444304,
     "user": {
      "displayName": "Надежда Демиденко",
      "photoUrl": "https://lh3.googleusercontent.com/a-/AAuE7mA6D7k5OgtG9hzPe8Abs8DfOKAXQoTXaPfn7EY=s64",
      "userId": "05224310221243935536"
     },
     "user_tz": -180
    },
    "id": "eDh08LL8Y6B_",
    "outputId": "f092b565-27da-4d84-f2e9-9dc51a4d2428"
   },
   "outputs": [
    {
     "name": "stdout",
     "output_type": "stream",
     "text": [
      "Hello World\n",
      "The End.\n"
     ]
    }
   ],
   "source": [
    "f = open('10/text.txt', 'r')\n",
    "for line in f:\n",
    "    print(line, end=\"\")\n",
    "f.close()"
   ]
  },
  {
   "cell_type": "markdown",
   "metadata": {
    "colab_type": "text",
    "id": "0y3Rc5k2aJy6"
   },
   "source": [
    "- **`readline()` и `readlines()`**: возвращают соответственно одну строку или список строк"
   ]
  },
  {
   "cell_type": "code",
   "execution_count": 8,
   "metadata": {
    "colab": {
     "base_uri": "https://localhost:8080/",
     "height": 68
    },
    "colab_type": "code",
    "executionInfo": {
     "elapsed": 601,
     "status": "ok",
     "timestamp": 1575454606569,
     "user": {
      "displayName": "Надежда Демиденко",
      "photoUrl": "https://lh3.googleusercontent.com/a-/AAuE7mA6D7k5OgtG9hzPe8Abs8DfOKAXQoTXaPfn7EY=s64",
      "userId": "05224310221243935536"
     },
     "user_tz": -180
    },
    "id": "tjFl6aE3Z-kQ",
    "outputId": "08af13ae-b92d-4a72-e3c3-15ba113508bf"
   },
   "outputs": [
    {
     "name": "stdout",
     "output_type": "stream",
     "text": [
      "Hello World\n",
      "\n",
      "['Hello World\\n', 'The End.\\n']\n"
     ]
    }
   ],
   "source": [
    "f = open('10/text.txt', 'r')\n",
    "print(f.readline())\n",
    "f.close()\n",
    "\n",
    "f = open('10/text.txt', 'r')\n",
    "print(f.readlines())\n",
    "f.close()"
   ]
  },
  {
   "cell_type": "markdown",
   "metadata": {
    "colab_type": "text",
    "id": "ZAkoFWDYcqZM"
   },
   "source": [
    "## Запись в файл\n",
    "\n",
    "Запись осуществляется в режиме 'w' или 'wb' при помощи метода `write()`.\n",
    "\n",
    "> **Примечание:**\n",
    ">\n",
    "> *Открытие существующего файла на запись удалит его исходное содержание!*"
   ]
  },
  {
   "cell_type": "code",
   "execution_count": 9,
   "metadata": {
    "colab": {
     "base_uri": "https://localhost:8080/",
     "height": 68
    },
    "colab_type": "code",
    "executionInfo": {
     "elapsed": 1600,
     "status": "ok",
     "timestamp": 1575641351074,
     "user": {
      "displayName": "Надежда Демиденко",
      "photoUrl": "https://lh3.googleusercontent.com/a-/AAuE7mA6D7k5OgtG9hzPe8Abs8DfOKAXQoTXaPfn7EY=s64",
      "userId": "05224310221243935536"
     },
     "user_tz": -180
    },
    "id": "oqkpoXjJ29YQ",
    "outputId": "22aa5a91-a775-4f6d-d743-02579e528101"
   },
   "outputs": [
    {
     "name": "stdout",
     "output_type": "stream",
     "text": [
      "This is brand new file.New line of brand new file.\n",
      "\n"
     ]
    }
   ],
   "source": [
    "f = open('10/text2.txt', 'w')\n",
    "f.write('This is brand new file.')\n",
    "f.write('New line of brand new file.\\n')\n",
    "f.close()\n",
    "\n",
    "# Откроем и проверим содержимое нового файла\n",
    "f = open('10/text2.txt', 'r')\n",
    "print(f.read())\n",
    "f.close()"
   ]
  },
  {
   "cell_type": "markdown",
   "metadata": {
    "colab_type": "text",
    "id": "vdcUZQtLeWf2"
   },
   "source": [
    "Еще один способ - метод `writelines()`, который будет принимать список строк, который дескриптор, в свою очередь, будет записывать по порядку на диск."
   ]
  },
  {
   "cell_type": "code",
   "execution_count": 10,
   "metadata": {
    "colab": {
     "base_uri": "https://localhost:8080/",
     "height": 85
    },
    "colab_type": "code",
    "executionInfo": {
     "elapsed": 617,
     "status": "ok",
     "timestamp": 1575455834040,
     "user": {
      "displayName": "Надежда Демиденко",
      "photoUrl": "https://lh3.googleusercontent.com/a-/AAuE7mA6D7k5OgtG9hzPe8Abs8DfOKAXQoTXaPfn7EY=s64",
      "userId": "05224310221243935536"
     },
     "user_tz": -180
    },
    "id": "Xgf9kVHDWces",
    "outputId": "0efacdde-0d55-4c20-c437-69e976fe783b"
   },
   "outputs": [
    {
     "name": "stdout",
     "output_type": "stream",
     "text": [
      "One another file.A lot of lines.\n",
      "LOL\n",
      "\n"
     ]
    }
   ],
   "source": [
    "my_list = ['One another file.', 'A lot of lines.\\n', 'LOL\\n']\n",
    "\n",
    "f = open('10/text2.txt', 'w')\n",
    "f.writelines(my_list)\n",
    "f.close()\n",
    "\n",
    "# Откроем и проверим содержимое нового файла\n",
    "f = open('10/text2.txt', 'r')\n",
    "print(f.read())\n",
    "f.close()"
   ]
  },
  {
   "cell_type": "markdown",
   "metadata": {
    "colab_type": "text",
    "id": "ih9BFPn5fi2T"
   },
   "source": [
    "## Оператор with\n",
    "\n",
    "В Python имеется встроенный инструмент `with`, применяя который можно заметно упростить чтение и редактирование файлов. Оператор `with` создает диспетчер контекста в Python, который автоматически закрывает файл по окончанию работы в нем."
   ]
  },
  {
   "cell_type": "code",
   "execution_count": 8,
   "metadata": {
    "colab": {
     "base_uri": "https://localhost:8080/",
     "height": 85
    },
    "colab_type": "code",
    "executionInfo": {
     "elapsed": 648,
     "status": "ok",
     "timestamp": 1575456057417,
     "user": {
      "displayName": "Надежда Демиденко",
      "photoUrl": "https://lh3.googleusercontent.com/a-/AAuE7mA6D7k5OgtG9hzPe8Abs8DfOKAXQoTXaPfn7EY=s64",
      "userId": "05224310221243935536"
     },
     "user_tz": -180
    },
    "id": "R9UvlEmDfy8m",
    "outputId": "23ac8310-8814-4bcc-c580-1cbb122722dd"
   },
   "outputs": [
    {
     "name": "stdout",
     "output_type": "stream",
     "text": [
      "Hello World\n",
      "\n",
      "The End.\n",
      "\n"
     ]
    }
   ],
   "source": [
    "with open(\"10/text.txt\") as f:\n",
    "    for line in f:\n",
    "        print(line)"
   ]
  },
  {
   "cell_type": "markdown",
   "metadata": {
    "colab_type": "text",
    "id": "0A-fjR1micv6"
   },
   "source": [
    "Даже если при выполнении инструкций в блоке `with` возникнут какие-либо исключения, то файл все равно закрывается. Поэтому если такие исключения могут возникнуть, нужно использовать оператор `with`.\n",
    "\n",
    "Сравним следующие ситуации без `with` и с `with`:"
   ]
  },
  {
   "cell_type": "code",
   "execution_count": 7,
   "metadata": {
    "colab": {
     "base_uri": "https://localhost:8080/",
     "height": 231
    },
    "colab_type": "code",
    "executionInfo": {
     "elapsed": 681,
     "status": "error",
     "timestamp": 1575642068917,
     "user": {
      "displayName": "Надежда Демиденко",
      "photoUrl": "https://lh3.googleusercontent.com/a-/AAuE7mA6D7k5OgtG9hzPe8Abs8DfOKAXQoTXaPfn7EY=s64",
      "userId": "05224310221243935536"
     },
     "user_tz": -180
    },
    "id": "-dMAe94sjGCu",
    "outputId": "073f9694-b680-4d86-efd3-cfb7485f7833"
   },
   "outputs": [
    {
     "ename": "ValueError",
     "evalue": "invalid literal for int() with base 10: 'Hello World\\n'",
     "output_type": "error",
     "traceback": [
      "\u001b[1;31m---------------------------------------------------------------------------\u001b[0m",
      "\u001b[1;31mValueError\u001b[0m                                Traceback (most recent call last)",
      "Cell \u001b[1;32mIn[7], line 5\u001b[0m\n\u001b[0;32m      3\u001b[0m f \u001b[38;5;241m=\u001b[39m \u001b[38;5;28mopen\u001b[39m(\u001b[38;5;124m\"\u001b[39m\u001b[38;5;124m10/text.txt\u001b[39m\u001b[38;5;124m\"\u001b[39m)\n\u001b[0;32m      4\u001b[0m \u001b[38;5;28;01mfor\u001b[39;00m line \u001b[38;5;129;01min\u001b[39;00m f:\n\u001b[1;32m----> 5\u001b[0m     i \u001b[38;5;241m=\u001b[39m \u001b[38;5;28;43mint\u001b[39;49m\u001b[43m(\u001b[49m\u001b[43mline\u001b[49m\u001b[43m)\u001b[49m \u001b[38;5;66;03m# ловим исключение\u001b[39;00m\n\u001b[0;32m      6\u001b[0m     \u001b[38;5;28mprint\u001b[39m(i)\n\u001b[0;32m      7\u001b[0m f\u001b[38;5;241m.\u001b[39mclose() \u001b[38;5;66;03m# команда закрыть файл не успевает отработать\u001b[39;00m\n",
      "\u001b[1;31mValueError\u001b[0m: invalid literal for int() with base 10: 'Hello World\\n'"
     ]
    }
   ],
   "source": [
    "# Откроем файл обычным способом и попытаемся прочитать строки как числа\n",
    "\n",
    "f = open(\"10/text.txt\")\n",
    "for line in f:\n",
    "    i = int(line) # ловим исключение\n",
    "    print(i)\n",
    "f.close() # команда закрыть файл не успевает отработать"
   ]
  },
  {
   "cell_type": "code",
   "execution_count": 13,
   "metadata": {
    "colab": {
     "base_uri": "https://localhost:8080/",
     "height": 51
    },
    "colab_type": "code",
    "executionInfo": {
     "elapsed": 626,
     "status": "ok",
     "timestamp": 1575642071781,
     "user": {
      "displayName": "Надежда Демиденко",
      "photoUrl": "https://lh3.googleusercontent.com/a-/AAuE7mA6D7k5OgtG9hzPe8Abs8DfOKAXQoTXaPfn7EY=s64",
      "userId": "05224310221243935536"
     },
     "user_tz": -180
    },
    "id": "snw77o5LjOcl",
    "outputId": "ddb84ec9-ab26-4751-d476-982bc408c393"
   },
   "outputs": [
    {
     "name": "stdout",
     "output_type": "stream",
     "text": [
      "The End.\n",
      "\n"
     ]
    }
   ],
   "source": [
    "print(f.read()) # Видим остаток файла -> файл не закрылся\n",
    "f.close() # Закрываем файл"
   ]
  },
  {
   "cell_type": "code",
   "execution_count": 14,
   "metadata": {
    "colab": {
     "base_uri": "https://localhost:8080/",
     "height": 214
    },
    "colab_type": "code",
    "executionInfo": {
     "elapsed": 1128,
     "status": "error",
     "timestamp": 1575642075085,
     "user": {
      "displayName": "Надежда Демиденко",
      "photoUrl": "https://lh3.googleusercontent.com/a-/AAuE7mA6D7k5OgtG9hzPe8Abs8DfOKAXQoTXaPfn7EY=s64",
      "userId": "05224310221243935536"
     },
     "user_tz": -180
    },
    "id": "NHkxwHfTidKJ",
    "outputId": "02324010-d352-43ac-eb01-02511bf88416"
   },
   "outputs": [
    {
     "ename": "ValueError",
     "evalue": "invalid literal for int() with base 10: 'Hello World\\n'",
     "output_type": "error",
     "traceback": [
      "\u001b[1;31m---------------------------------------------------------------------------\u001b[0m",
      "\u001b[1;31mValueError\u001b[0m                                Traceback (most recent call last)",
      "Cell \u001b[1;32mIn[14], line 5\u001b[0m\n\u001b[0;32m      3\u001b[0m \u001b[38;5;28;01mwith\u001b[39;00m \u001b[38;5;28mopen\u001b[39m(\u001b[38;5;124m\"\u001b[39m\u001b[38;5;124m10/text.txt\u001b[39m\u001b[38;5;124m\"\u001b[39m) \u001b[38;5;28;01mas\u001b[39;00m f:\n\u001b[0;32m      4\u001b[0m     \u001b[38;5;28;01mfor\u001b[39;00m line \u001b[38;5;129;01min\u001b[39;00m f:\n\u001b[1;32m----> 5\u001b[0m         i \u001b[38;5;241m=\u001b[39m \u001b[38;5;28;43mint\u001b[39;49m\u001b[43m(\u001b[49m\u001b[43mline\u001b[49m\u001b[43m)\u001b[49m \u001b[38;5;66;03m# ловим исключение\u001b[39;00m\n\u001b[0;32m      6\u001b[0m         \u001b[38;5;28mprint\u001b[39m(i)\n",
      "\u001b[1;31mValueError\u001b[0m: invalid literal for int() with base 10: 'Hello World\\n'"
     ]
    }
   ],
   "source": [
    "# Откроем файл при помощи with и попытаемся сделать то же самое\n",
    "\n",
    "with open(\"10/text.txt\") as f:\n",
    "    for line in f:\n",
    "        i = int(line) # ловим исключение\n",
    "        print(i)"
   ]
  },
  {
   "cell_type": "code",
   "execution_count": 15,
   "metadata": {
    "colab": {
     "base_uri": "https://localhost:8080/",
     "height": 163
    },
    "colab_type": "code",
    "executionInfo": {
     "elapsed": 614,
     "status": "error",
     "timestamp": 1575642077026,
     "user": {
      "displayName": "Надежда Демиденко",
      "photoUrl": "https://lh3.googleusercontent.com/a-/AAuE7mA6D7k5OgtG9hzPe8Abs8DfOKAXQoTXaPfn7EY=s64",
      "userId": "05224310221243935536"
     },
     "user_tz": -180
    },
    "id": "SgXhWwIui3e2",
    "outputId": "a0ce3248-c6f7-4784-b834-e052e27b0f52"
   },
   "outputs": [
    {
     "ename": "ValueError",
     "evalue": "I/O operation on closed file.",
     "output_type": "error",
     "traceback": [
      "\u001b[1;31m---------------------------------------------------------------------------\u001b[0m",
      "\u001b[1;31mValueError\u001b[0m                                Traceback (most recent call last)",
      "Cell \u001b[1;32mIn[15], line 1\u001b[0m\n\u001b[1;32m----> 1\u001b[0m \u001b[38;5;28mprint\u001b[39m(\u001b[43mf\u001b[49m\u001b[38;5;241;43m.\u001b[39;49m\u001b[43mread\u001b[49m\u001b[43m(\u001b[49m\u001b[43m)\u001b[49m) \u001b[38;5;66;03m# Не можем прочитать -> файл закрылся\u001b[39;00m\n",
      "\u001b[1;31mValueError\u001b[0m: I/O operation on closed file."
     ]
    }
   ],
   "source": [
    "print(f.read()) # Не можем прочитать -> файл закрылся"
   ]
  },
  {
   "cell_type": "markdown",
   "metadata": {
    "colab_type": "text",
    "id": "EiI1kIgCgE5k"
   },
   "source": [
    "Вы можете выполнять все стандартные операции ввода\\вывода в привычном порядке, пока находитесь в пределах блока кода. После того, как вы покинете блок кода, файловый дескриптор закроет его, и его уже нельзя будет использовать."
   ]
  },
  {
   "cell_type": "markdown",
   "metadata": {},
   "source": [
    "# Задание\n",
    "\n",
    "Напишите функцию get_popular_name_from_file(filename), которая считывает файл, в котором в каждой строке записаны имя и фамилия через пробел. filename - это имя файла, в котором записаны эти имена. Вам нужно вернуть строку - самое популярное имя в файле. Если таких имен несколько, они должны быть перечислены через запятую внутри строки в алфавитном порядке. Проверить правильность решения вы можете в контесте в задании Файлы."
   ]
  },
  {
   "cell_type": "code",
   "execution_count": 31,
   "metadata": {},
   "outputs": [
    {
     "name": "stdout",
     "output_type": "stream",
     "text": [
      "Файл 10/task.txt существует.\n",
      "{'max': 3, 'sergio': 3, 'diego': 1, 'palochka': 2}\n",
      "[('max', 3), ('sergio', 3), ('palochka', 2), ('diego', 1)]\n"
     ]
    },
    {
     "data": {
      "text/plain": [
       "['max', 'sergio']"
      ]
     },
     "execution_count": 31,
     "metadata": {},
     "output_type": "execute_result"
    }
   ],
   "source": [
    "# опишите решение здесь\n",
    "import os\n",
    "def get_popular_name(filename):\n",
    "    count = {}\n",
    "    f = open(filename)\n",
    "    if os.path.exists(filename):\n",
    "        print(f\"Файл {filename} существует.\")\n",
    "    else:\n",
    "        print(f\"Файл {filename} не найден.\")\n",
    "        return None\n",
    "    for line in f:\n",
    "        line = line.replace(\"\\n\", \"\")\n",
    "        if line in count:\n",
    "            count[line] += 1\n",
    "        else:\n",
    "            count[line] = 1\n",
    "    print(count)\n",
    "    co = sorted(count.items(), key = lambda x: x[1], reverse = True)\n",
    "    print(co)\n",
    "    popy = [i[0] for i in co if i[1] == co[0][1]]\n",
    "    return popy\n",
    "    f.close()\n",
    "get_popular_name(\"10/task.txt\")"
   ]
  },
  {
   "cell_type": "markdown",
   "metadata": {},
   "source": [
    "## Модуль `shutil`\n",
    "\n",
    "Модуль `shutil` содержит набор функций высокого уровня для обработки файлов, групп файлов, и папок. В частности, доступные здесь функции позволяют копировать, перемещать и удалять файлы и папки. Часто используется вместе с модулем os.\n",
    "\n",
    "### Операции над файлами и директориями\n",
    "\n",
    "- `shutil.copyfileobj(fsrc, fdst[, length])` - скопировать содержимое одного файлового объекта (fsrc) в другой (fdst). Необязательный параметр length - размер буфера при копировании (чтобы весь, возможно огромный, файл не читался целиком в память).\n",
    "\n",
    "- `shutil.copyfile(src, dst, follow_symlinks=True)` - копирует содержимое (но не метаданные) файла src в файл dst. Возвращает dst (т.е. куда файл был скопирован). src и dst это строки - пути к файлам. dst должен быть полным именем файла.\n",
    "\n",
    "- `shutil.copymode(src, dst, follow_symlinks=True)` - копирует права доступа из src в dst. Содержимое файла, владелец, и группа не меняются.\n",
    "\n",
    "- `shutil.copystat(src, dst, follow_symlinks=True)` - копирует права доступа, время последнего доступа, последнего изменения, и флаги src в dst. Содержимое файла, владелец, и группа не меняются.\n",
    "\n",
    "- `shutil.copy(src, dst, follow_symlinks=True)` - копирует содержимое файла src в файл или папку dst. Если dst является директорией, файл будет скопирован с тем же названием, что было в src. Функция возвращает путь к местонахождению нового скопированного файла.\n",
    "\n",
    "- `copy()` копирует содержимое файла, и права доступа.\n",
    "\n",
    "- `shutil.copy2(src, dst, follow_symlinks=True)` - как copy(), но пытается копировать все метаданные.\n",
    "\n",
    "- `shutil.copytree(src, dst, symlinks=False, ignore=None, copy_function=copy2, ignore_dangling_symlinks=False)` - рекурсивно копирует всё дерево директорий с корнем в src, возвращает директорию назначения.\n",
    "\n",
    "- `shutil.ignore_patterns(*patterns)` - функция, которая создаёт функцию, которая может быть использована в качестве ignore для copytree(), игнорируя файлы и директории, которые соответствуют glob-style шаблонам.\n",
    "\n",
    "- `shutil.rmtree(path, ignore_errors=False, onerror=None)` - Удаляет текущую директорию и все поддиректории; path должен указывать на директорию, а не на символическую ссылку.\n",
    "\n",
    "- `shutil.move(src, dst, copy_function=copy2)` - рекурсивно перемещает файл или директорию (src) в другое место (dst), и возвращает место назначения.\n",
    "\n",
    "- `shutil.disk_usage(path)` - возвращает статистику использования дискового пространства как namedtuple с атрибутами total, used и free, в байтах.\n",
    "\n",
    "- `shutil.chown(path, user=None, group=None)` - меняет владельца и/или группу у файла или директории.\n",
    "\n",
    "- `shutil.which(cmd, mode=os.F_OK | os.X_OK, path=None)` - возвращает путь к исполняемому файлу по заданной команде. Если нет соответствия ни с одним файлом, то None. mode это права доступа, требующиеся от файла, по умолчанию ищет только исполняемые.\n",
    "\n",
    "### Архивация\n",
    "\n",
    "Высокоуровневые функции для созданиия и чтения архивированных и сжатых файлов. Основаны на функциях из модулей zipfile и tarfile.\n",
    "\n",
    "- `shutil.make_archive(base_name, format[, root_dir[, base_dir[, verbose[, dry_run[, owner[, group[, logger]]]]]]])` - создаёт архив и возвращает его имя.\n",
    "\n",
    "- `shutil.get_archive_formats()` - список доступных форматов для архивирования.\n",
    "\n",
    "- `shutil.unpack_archive(filename[, extract_dir[, format]])` - распаковывает архив. filename - полный путь к архиву.\n",
    "\n",
    "- `shutil.get_unpack_formats()` - список доступных форматов для разархивирования.\n",
    "\n",
    "### Запрос размера терминала вывода\n",
    "\n",
    "- `shutil.get_terminal_size(fallback=(columns, lines))` - возвращает размер окна терминала.\n",
    "fallback вернётся, если не удалось узнать размер терминала (терминал не поддерживает такие запросы, или программа работает без терминала). По умолчанию (80, 24).\n",
    "\n",
    "### Некоторые примеры работы с модулем `shutil`:"
   ]
  },
  {
   "cell_type": "code",
   "execution_count": 33,
   "metadata": {},
   "outputs": [],
   "source": [
    "# подготовим структуру файлов: удалим, если есть, папку files, и создадим пустую папку с этим\n",
    "# именем\n",
    "\n",
    "import shutil\n",
    "import os\n",
    "shutil.rmtree(\"11/files\", ignore_errors=True)\n",
    "os.mkdir(\"11/files\")"
   ]
  },
  {
   "cell_type": "markdown",
   "metadata": {},
   "source": [
    "Скопируем файл:"
   ]
  },
  {
   "cell_type": "code",
   "execution_count": 34,
   "metadata": {},
   "outputs": [
    {
     "data": {
      "text/plain": [
       "'11/files/file2.txt'"
      ]
     },
     "execution_count": 34,
     "metadata": {},
     "output_type": "execute_result"
    }
   ],
   "source": [
    "# Source path \n",
    "source = \"10/text.txt\"\n",
    "# Destination path \n",
    "destination = \"11/files/file2.txt\"\n",
    "\n",
    "# Скопирует содержимое файла из source в destination \n",
    "shutil.copyfile(source, destination) "
   ]
  },
  {
   "cell_type": "markdown",
   "metadata": {},
   "source": [
    "Скопируем папку:"
   ]
  },
  {
   "cell_type": "code",
   "execution_count": 40,
   "metadata": {},
   "outputs": [
    {
     "data": {
      "text/plain": [
       "'11/files/01'"
      ]
     },
     "execution_count": 40,
     "metadata": {},
     "output_type": "execute_result"
    }
   ],
   "source": [
    "from shutil import copytree, ignore_patterns\n",
    "# Source path \n",
    "source = \"01\"\n",
    "# Destination path (не должна существовать!)\n",
    "destination = \"11/files/01\"\n",
    "\n",
    "# Скопирует рекурсивно из source в destination все файлы, кроме заканчивающихся на .pyc или начинающихся с tmp\n",
    "copytree(source, destination, ignore=ignore_patterns('*.pyc', 'tmp*'))"
   ]
  },
  {
   "cell_type": "markdown",
   "metadata": {},
   "source": [
    "Создадим архив:"
   ]
  },
  {
   "cell_type": "code",
   "execution_count": 41,
   "metadata": {},
   "outputs": [
    {
     "data": {
      "text/plain": [
       "'c:\\\\projects\\\\perfomanceQA\\\\PerfomanceQA\\\\Python\\\\4 week\\\\11\\\\files.zip'"
      ]
     },
     "execution_count": 41,
     "metadata": {},
     "output_type": "execute_result"
    }
   ],
   "source": [
    "# В этом примере мы создаем архив tar.gz, содержащий все файлы, найденные в .ssh каталоге пользователя:\n",
    "from shutil import make_archive\n",
    "archive_name = \"11/files\"\n",
    "root_dir = \"11/files\"\n",
    "make_archive(archive_name, 'zip', root_dir)"
   ]
  }
 ],
 "metadata": {
  "colab": {
   "name": "topic10.ipynb",
   "provenance": []
  },
  "kernelspec": {
   "display_name": ".venv",
   "language": "python",
   "name": "python3"
  },
  "language_info": {
   "codemirror_mode": {
    "name": "ipython",
    "version": 3
   },
   "file_extension": ".py",
   "mimetype": "text/x-python",
   "name": "python",
   "nbconvert_exporter": "python",
   "pygments_lexer": "ipython3",
   "version": "3.13.0"
  }
 },
 "nbformat": 4,
 "nbformat_minor": 1
}
