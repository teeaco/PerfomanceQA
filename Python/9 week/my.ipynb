{
 "cells": [
  {
   "cell_type": "markdown",
   "metadata": {},
   "source": [
    "**1 Тема**"
   ]
  },
  {
   "cell_type": "markdown",
   "metadata": {},
   "source": [
    "Современная система есть ни что иное, как имение систем версий файла у всех юзеров, помимо главного сервера, что гарантирует факт: даже если полетит главный сервер, то хоть у кого-то будут все версии проекта"
   ]
  },
  {
   "cell_type": "markdown",
   "metadata": {},
   "source": [
    "**2 Тема**"
   ]
  }
 ],
 "metadata": {
  "language_info": {
   "name": "python"
  }
 },
 "nbformat": 4,
 "nbformat_minor": 2
}
