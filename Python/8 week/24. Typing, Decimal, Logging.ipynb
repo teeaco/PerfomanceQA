{
 "cells": [
  {
   "cell_type": "markdown",
   "metadata": {},
   "source": [
    "# Модуль typing\n",
    "\n",
    "https://habr.com/ru/company/lamoda/blog/432656/\n",
    "\n",
    "Создан для того, чтобы отслеживать правильность типов передаваемых аргументов в функции. Аннотации функций появились в Python 3.6, модуль typing - в 3.7.\n",
    "\n",
    "Аннотации типов призваны помочь программисту быстрее понять сигнатуру функции, но не предотвращают ошибок в передаваемых данных. Также они поддерживаются PyCharm'ом и линтерами."
   ]
  },
  {
   "cell_type": "code",
   "execution_count": 35,
   "metadata": {},
   "outputs": [],
   "source": [
    "def some_function(x, y, temp, value, processor):\n",
    "    pass"
   ]
  },
  {
   "cell_type": "code",
   "execution_count": 36,
   "metadata": {
    "scrolled": true
   },
   "outputs": [
    {
     "name": "stdout",
     "output_type": "stream",
     "text": [
      "entered\n"
     ]
    },
    {
     "ename": "AttributeError",
     "evalue": "'int' object has no attribute 'upper'",
     "output_type": "error",
     "traceback": [
      "\u001b[1;31m---------------------------------------------------------------------------\u001b[0m",
      "\u001b[1;31mAttributeError\u001b[0m                            Traceback (most recent call last)",
      "Cell \u001b[1;32mIn[36], line 5\u001b[0m\n\u001b[0;32m      2\u001b[0m     \u001b[38;5;28mprint\u001b[39m(\u001b[38;5;124m\"\u001b[39m\u001b[38;5;124mentered\u001b[39m\u001b[38;5;124m\"\u001b[39m)\n\u001b[0;32m      3\u001b[0m     \u001b[38;5;28;01mreturn\u001b[39;00m s\u001b[38;5;241m.\u001b[39mupper()\n\u001b[1;32m----> 5\u001b[0m \u001b[43mupper\u001b[49m\u001b[43m(\u001b[49m\u001b[38;5;241;43m12342\u001b[39;49m\u001b[43m)\u001b[49m\n",
      "Cell \u001b[1;32mIn[36], line 3\u001b[0m, in \u001b[0;36mupper\u001b[1;34m(s)\u001b[0m\n\u001b[0;32m      1\u001b[0m \u001b[38;5;28;01mdef\u001b[39;00m\u001b[38;5;250m \u001b[39m\u001b[38;5;21mupper\u001b[39m(s: \u001b[38;5;28mstr\u001b[39m) \u001b[38;5;241m-\u001b[39m\u001b[38;5;241m>\u001b[39m \u001b[38;5;28mstr\u001b[39m:\n\u001b[0;32m      2\u001b[0m     \u001b[38;5;28mprint\u001b[39m(\u001b[38;5;124m\"\u001b[39m\u001b[38;5;124mentered\u001b[39m\u001b[38;5;124m\"\u001b[39m)\n\u001b[1;32m----> 3\u001b[0m     \u001b[38;5;28;01mreturn\u001b[39;00m \u001b[43ms\u001b[49m\u001b[38;5;241;43m.\u001b[39;49m\u001b[43mupper\u001b[49m()\n",
      "\u001b[1;31mAttributeError\u001b[0m: 'int' object has no attribute 'upper'"
     ]
    }
   ],
   "source": [
    "def upper(s: str) -> str:\n",
    "    print(\"entered\")\n",
    "    return s.upper()\n",
    "\n",
    "upper(12342)"
   ]
  },
  {
   "cell_type": "markdown",
   "metadata": {},
   "source": [
    "Установим популярный статический анализатор mypy:"
   ]
  },
  {
   "cell_type": "code",
   "execution_count": null,
   "metadata": {},
   "outputs": [
    {
     "name": "stdout",
     "output_type": "stream",
     "text": [
      "Collecting mypy\n",
      "  Downloading mypy-1.15.0-cp313-cp313-win_amd64.whl.metadata (2.1 kB)\n",
      "Collecting typing_extensions>=4.6.0 (from mypy)\n",
      "  Using cached typing_extensions-4.12.2-py3-none-any.whl.metadata (3.0 kB)\n",
      "Collecting mypy_extensions>=1.0.0 (from mypy)\n",
      "  Downloading mypy_extensions-1.0.0-py3-none-any.whl.metadata (1.1 kB)\n",
      "Downloading mypy-1.15.0-cp313-cp313-win_amd64.whl (9.4 MB)\n",
      "   ---------------------------------------- 0.0/9.4 MB ? eta -:--:--\n",
      "   --- ------------------------------------ 0.8/9.4 MB 6.6 MB/s eta 0:00:02\n",
      "   ---------- ----------------------------- 2.4/9.4 MB 6.7 MB/s eta 0:00:02\n",
      "   -------------------- ------------------- 4.7/9.4 MB 8.4 MB/s eta 0:00:01\n",
      "   --------------------------- ------------ 6.6/9.4 MB 8.4 MB/s eta 0:00:01\n",
      "   ----------------------------------- ---- 8.4/9.4 MB 8.5 MB/s eta 0:00:01\n",
      "   ---------------------------------------- 9.4/9.4 MB 8.2 MB/s eta 0:00:00\n",
      "Downloading mypy_extensions-1.0.0-py3-none-any.whl (4.7 kB)\n",
      "Downloading typing_extensions-4.12.2-py3-none-any.whl (37 kB)\n",
      "Installing collected packages: typing_extensions, mypy_extensions, mypy\n",
      "Successfully installed mypy-1.15.0 mypy_extensions-1.0.0 typing_extensions-4.12.2\n"
     ]
    }
   ],
   "source": [
    "!pip install mypy"
   ]
  },
  {
   "cell_type": "markdown",
   "metadata": {},
   "source": [
    "Код из предыдущей ячейки записан в файле 07/typing1.py. Попробуем прогнать его через mypy:"
   ]
  },
  {
   "cell_type": "code",
   "execution_count": null,
   "metadata": {},
   "outputs": [
    {
     "name": "stdout",
     "output_type": "stream",
     "text": [
      "07\\typing1.py:5: \u001b[1m\u001b[91merror:\u001b[0m Argument 1 to \u001b[0m\u001b[1m\"upper\"\u001b[0m has incompatible type \u001b[0m\u001b[1m\"int\"\u001b[0m; expected \u001b[0m\u001b[1m\"str\"\u001b[0m  \u001b[0m\u001b[93m[arg-type]\u001b[0m\n",
      "\u001b[1m\u001b[91mFound 1 error in 1 file (checked 1 source file)\u001b[0m\n"
     ]
    }
   ],
   "source": [
    "!mypy 07/typing1.py"
   ]
  },
  {
   "cell_type": "markdown",
   "metadata": {},
   "source": [
    "### Алиасы типов\n",
    "\n",
    "Благодаря возможностям библиотеки typing, можно часто используемые составные типы записывать в переменные:"
   ]
  },
  {
   "cell_type": "code",
   "execution_count": null,
   "metadata": {},
   "outputs": [
    {
     "data": {
      "text/plain": [
       "[2, -8.4, 10.4]"
      ]
     },
     "execution_count": 5,
     "metadata": {},
     "output_type": "execute_result"
    }
   ],
   "source": [
    "from typing import List\n",
    "\n",
    "Vector = List[float]\n",
    "\n",
    "def scale(scalar: float, vector: Vector) -> Vector:\n",
    "    return [scalar * num for num in vector]\n",
    "\n",
    "\n",
    "scale(2, [1, -4.2, 5.2])"
   ]
  },
  {
   "cell_type": "markdown",
   "metadata": {},
   "source": [
    "## Структуры типов модуля typing\n",
    "\n",
    "- `Any` - произвольный тип\n",
    "- `List[int]` - список, который содержит только один тип данных int\n",
    "- `Tuple[int, str]` - кортеж, который может содержать несколько типов данных\n",
    "- `Union[str, bytes]` - можно подавать либо строку, либо bytes\n",
    "- `Callable[[int, int], float]` - вызываемый объект, который на вход принимает два аргумента int, а возвращает float\n",
    "- `Iterable[T]` - Iterable со значениями типа T\n",
    "- `Mapping[K, V]`, `Dict[K, V]` - словарь с ключами типа K и значениями типа V\n",
    "- `Awaitable[T_co]` - корутины\n",
    "- `Type[T]` - тип/класс\n",
    "\n",
    "\n",
    "- `Optional[T]` - показывает, что переменная может быть None\n",
    "\n",
    "### Optional\n",
    "\n",
    "По умолчанию аннотированный тип не может быть None:"
   ]
  },
  {
   "cell_type": "code",
   "execution_count": 6,
   "metadata": {},
   "outputs": [],
   "source": [
    "from typing import Optional\n",
    "\n",
    "amount: int\n",
    "amount = None  # Incompatible types in assignment (expression has type \"None\", variable has type \"int\")\n",
    "\n",
    "price: Optional[int]\n",
    "price = None"
   ]
  },
  {
   "cell_type": "code",
   "execution_count": null,
   "metadata": {},
   "outputs": [
    {
     "name": "stdout",
     "output_type": "stream",
     "text": [
      "<string>:1: \u001b[1m\u001b[91merror:\u001b[0m Incompatible types in assignment (expression has type \u001b[0m\u001b[1m\"None\"\u001b[0m, variable has type \u001b[0m\u001b[1m\"int\"\u001b[0m)  \u001b[0m\u001b[93m[assignment]\u001b[0m\n",
      "\u001b[1m\u001b[91mFound 1 error in 1 file (checked 1 source file)\u001b[0m\n"
     ]
    }
   ],
   "source": [
    "!mypy -c \"amount: int = None\""
   ]
  },
  {
   "cell_type": "code",
   "execution_count": null,
   "metadata": {},
   "outputs": [
    {
     "name": "stdout",
     "output_type": "stream",
     "text": [
      "\u001b[1m\u001b[92mSuccess: no issues found in 1 source file\u001b[0m\n"
     ]
    }
   ],
   "source": [
    "!mypy -c \"from typing import Optional; amount: Optional[int] = None\""
   ]
  },
  {
   "cell_type": "markdown",
   "metadata": {},
   "source": [
    "### Any\n",
    "\n",
    "Если мы берем на себя ручную обработку типов, можем аннотировать переменную классом Any, тогда она сможет принимать любые значения"
   ]
  },
  {
   "cell_type": "code",
   "execution_count": 9,
   "metadata": {},
   "outputs": [],
   "source": [
    "from typing import Any\n",
    "\n",
    "amount: Any\n",
    "amount = 1\n",
    "amount = \"Some\"\n",
    "amount = None"
   ]
  },
  {
   "cell_type": "code",
   "execution_count": null,
   "metadata": {},
   "outputs": [
    {
     "name": "stdout",
     "output_type": "stream",
     "text": [
      "\u001b[1m\u001b[92mSuccess: no issues found in 1 source file\u001b[0m\n"
     ]
    }
   ],
   "source": [
    "!mypy -c \"from typing import Any; amount: Any; amount = 1; amount = 'Some'; amount = None\""
   ]
  },
  {
   "cell_type": "markdown",
   "metadata": {},
   "source": [
    "### Union\n",
    "\n",
    "Предназначен для случаев, когда можно использовать только некоторые типы"
   ]
  },
  {
   "cell_type": "code",
   "execution_count": 11,
   "metadata": {},
   "outputs": [
    {
     "data": {
      "text/plain": [
       "1"
      ]
     },
     "execution_count": 11,
     "metadata": {},
     "output_type": "execute_result"
    }
   ],
   "source": [
    "from typing import Union, Dict\n",
    "\n",
    "def some_func(arg: Union[Dict[str, str], str]) -> int:\n",
    "    return len(arg)\n",
    "\n",
    "\n",
    "some_func({\"a\": \"b\"})\n",
    "some_func(\"abc\")\n",
    "some_func({\"a\": 1})"
   ]
  },
  {
   "cell_type": "code",
   "execution_count": null,
   "metadata": {},
   "outputs": [
    {
     "name": "stdout",
     "output_type": "stream",
     "text": [
      "07\\typing2.py:9: \u001b[1m\u001b[91merror:\u001b[0m Dict entry 0 has incompatible type \u001b[0m\u001b[1m\"str\"\u001b[0m: \u001b[0m\u001b[1m\"int\"\u001b[0m; expected \u001b[0m\u001b[1m\"str\"\u001b[0m: \u001b[0m\u001b[1m\"str\"\u001b[0m  \u001b[0m\u001b[93m[dict-item]\u001b[0m\n",
      "\u001b[1m\u001b[91mFound 1 error in 1 file (checked 1 source file)\u001b[0m\n"
     ]
    }
   ],
   "source": [
    "!mypy 07/typing2.py"
   ]
  },
  {
   "cell_type": "markdown",
   "metadata": {},
   "source": [
    "## Generic-типы\n",
    "\n",
    "Иногда нужно просто указать, что данные должны быть однотипными, без жесткой фиксации типов. Для этого используется TypeVar:"
   ]
  },
  {
   "cell_type": "code",
   "execution_count": 13,
   "metadata": {},
   "outputs": [
    {
     "ename": "AttributeError",
     "evalue": "'int' object has no attribute 'replace'",
     "output_type": "error",
     "traceback": [
      "\u001b[1;31m---------------------------------------------------------------------------\u001b[0m",
      "\u001b[1;31mAttributeError\u001b[0m                            Traceback (most recent call last)",
      "Cell \u001b[1;32mIn[13], line 16\u001b[0m\n\u001b[0;32m     14\u001b[0m head_int\u001b[38;5;241m.\u001b[39mnext \u001b[38;5;241m=\u001b[39m \u001b[38;5;241m2\u001b[39m  \u001b[38;5;66;03m# error: Incompatible types in assignment (expression has type \"int\", variable has type \"LinkedList[int]\")\u001b[39;00m\n\u001b[0;32m     15\u001b[0m head_int\u001b[38;5;241m.\u001b[39mdata \u001b[38;5;241m+\u001b[39m\u001b[38;5;241m=\u001b[39m \u001b[38;5;241m1\u001b[39m\n\u001b[1;32m---> 16\u001b[0m \u001b[43mhead_int\u001b[49m\u001b[38;5;241;43m.\u001b[39;49m\u001b[43mdata\u001b[49m\u001b[38;5;241;43m.\u001b[39;49m\u001b[43mreplace\u001b[49m(\u001b[38;5;124m\"\u001b[39m\u001b[38;5;124m0\u001b[39m\u001b[38;5;124m\"\u001b[39m, \u001b[38;5;124m\"\u001b[39m\u001b[38;5;124m1\u001b[39m\u001b[38;5;124m\"\u001b[39m)  \u001b[38;5;66;03m# error: \"int\" has no attribute \"replace\"\u001b[39;00m\n\u001b[0;32m     18\u001b[0m head_str: LinkedList[\u001b[38;5;28mstr\u001b[39m] \u001b[38;5;241m=\u001b[39m LinkedList(\u001b[38;5;124m\"\u001b[39m\u001b[38;5;124m1\u001b[39m\u001b[38;5;124m\"\u001b[39m)\n\u001b[0;32m     19\u001b[0m head_str\u001b[38;5;241m.\u001b[39mdata\u001b[38;5;241m.\u001b[39mreplace(\u001b[38;5;124m\"\u001b[39m\u001b[38;5;124m0\u001b[39m\u001b[38;5;124m\"\u001b[39m, \u001b[38;5;124m\"\u001b[39m\u001b[38;5;124m1\u001b[39m\u001b[38;5;124m\"\u001b[39m)\n",
      "\u001b[1;31mAttributeError\u001b[0m: 'int' object has no attribute 'replace'"
     ]
    }
   ],
   "source": [
    "from typing import TypeVar, Generic\n",
    "\n",
    "T = TypeVar(\"T\")\n",
    "\n",
    "class LinkedList(Generic[T]):\n",
    "    data: T\n",
    "    next: \"LinkedList[T]\"\n",
    "\n",
    "    def __init__(self, data: T):\n",
    "        self.data = data\n",
    "\n",
    "head_int: LinkedList[int] = LinkedList(1)\n",
    "head_int.next = LinkedList(2)\n",
    "head_int.next = 2  # error: Incompatible types in assignment (expression has type \"int\", variable has type \"LinkedList[int]\")\n",
    "head_int.data += 1\n",
    "head_int.data.replace(\"0\", \"1\")  # error: \"int\" has no attribute \"replace\"\n",
    "\n",
    "head_str: LinkedList[str] = LinkedList(\"1\")\n",
    "head_str.data.replace(\"0\", \"1\")\n",
    "\n",
    "head_str = LinkedList[str](1)  # error: Argument 1 to \"LinkedList\" has incompatible type \"int\"; expected \"str\""
   ]
  },
  {
   "cell_type": "code",
   "execution_count": null,
   "metadata": {},
   "outputs": [
    {
     "name": "stdout",
     "output_type": "stream",
     "text": [
      "07\\typing3.py:14: \u001b[1m\u001b[91merror:\u001b[0m Incompatible types in assignment (expression has type \u001b[0m\u001b[1m\"int\"\u001b[0m, variable has type \u001b[0m\u001b[1m\"LinkedList[int]\"\u001b[0m)  \u001b[0m\u001b[93m[assignment]\u001b[0m\n",
      "07\\typing3.py:16: \u001b[1m\u001b[91merror:\u001b[0m \u001b[0m\u001b[1m\"int\"\u001b[0m has no attribute \u001b[0m\u001b[1m\"replace\"\u001b[0m  \u001b[0m\u001b[93m[attr-defined]\u001b[0m\n",
      "07\\typing3.py:21: \u001b[1m\u001b[91merror:\u001b[0m Argument 1 to \u001b[0m\u001b[1m\"LinkedList\"\u001b[0m has incompatible type \u001b[0m\u001b[1m\"int\"\u001b[0m; expected \u001b[0m\u001b[1m\"str\"\u001b[0m  \u001b[0m\u001b[93m[arg-type]\u001b[0m\n",
      "\u001b[1m\u001b[91mFound 3 errors in 1 file (checked 1 source file)\u001b[0m\n"
     ]
    }
   ],
   "source": [
    "!mypy 07/typing3.py"
   ]
  },
  {
   "cell_type": "markdown",
   "metadata": {},
   "source": [
    "Еще один пример - пара объектов для любых конкретных типов:"
   ]
  },
  {
   "cell_type": "code",
   "execution_count": 15,
   "metadata": {},
   "outputs": [],
   "source": [
    "from typing import TypeVar, Generic\n",
    "\n",
    "K = TypeVar('K')\n",
    "V = TypeVar('V')\n",
    "\n",
    "class Pair(Generic[K, V]):\n",
    "    def __init__(self, key: K, value: V):\n",
    "        self._key = key\n",
    "        self._value = value\n",
    "\n",
    "    @property\n",
    "    def key(self) -> K:\n",
    "        return self._key\n",
    "\n",
    "    @property\n",
    "    def value(self) -> V:\n",
    "        return self._value\n",
    "\n",
    "\n",
    "class IntPair(Pair[int, int]):\n",
    "    pass\n",
    "\n",
    "p = IntPair(\"1\", \"2\")"
   ]
  },
  {
   "cell_type": "markdown",
   "metadata": {},
   "source": [
    "## Cast\n",
    "\n",
    "Иногда статический анализатор не может однозначно определить тип переменной. Чтобы показать анализатору, что возвращается действительно заявленный тип, можно в коде использовать функцию cast."
   ]
  },
  {
   "cell_type": "code",
   "execution_count": 16,
   "metadata": {},
   "outputs": [],
   "source": [
    "from typing import List, cast\n",
    "\n",
    "def find_first_str(a: List[object]) -> str:\n",
    "    index = next(i for i, x in enumerate(a) if isinstance(x, str))\n",
    "    return cast(str, a[index])"
   ]
  },
  {
   "cell_type": "markdown",
   "metadata": {},
   "source": [
    "Это полезно для декораторов, поскольку анализатору может быть непонятно, что представляет собой обобщенный wrapper:"
   ]
  },
  {
   "cell_type": "code",
   "execution_count": 17,
   "metadata": {},
   "outputs": [
    {
     "ename": "NameError",
     "evalue": "name 'Callable' is not defined",
     "output_type": "error",
     "traceback": [
      "\u001b[1;31m---------------------------------------------------------------------------\u001b[0m",
      "\u001b[1;31mNameError\u001b[0m                                 Traceback (most recent call last)",
      "Cell \u001b[1;32mIn[17], line 1\u001b[0m\n\u001b[1;32m----> 1\u001b[0m MyCallable \u001b[38;5;241m=\u001b[39m TypeVar(\u001b[38;5;124m\"\u001b[39m\u001b[38;5;124mMyCallable\u001b[39m\u001b[38;5;124m\"\u001b[39m, bound\u001b[38;5;241m=\u001b[39m\u001b[43mCallable\u001b[49m)\n\u001b[0;32m      3\u001b[0m \u001b[38;5;28;01mdef\u001b[39;00m\u001b[38;5;250m \u001b[39m\u001b[38;5;21mlogged\u001b[39m(func: MyCallable) \u001b[38;5;241m-\u001b[39m\u001b[38;5;241m>\u001b[39m MyCallable:\n\u001b[0;32m      4\u001b[0m     \u001b[38;5;129m@wraps\u001b[39m(func)\n\u001b[0;32m      5\u001b[0m     \u001b[38;5;28;01mdef\u001b[39;00m\u001b[38;5;250m \u001b[39m\u001b[38;5;21mwrapper\u001b[39m(\u001b[38;5;241m*\u001b[39margs, \u001b[38;5;241m*\u001b[39m\u001b[38;5;241m*\u001b[39mkwargs):\n",
      "\u001b[1;31mNameError\u001b[0m: name 'Callable' is not defined"
     ]
    }
   ],
   "source": [
    "MyCallable = TypeVar(\"MyCallable\", bound=Callable)\n",
    "\n",
    "def logged(func: MyCallable) -> MyCallable:\n",
    "    @wraps(func)\n",
    "    def wrapper(*args, **kwargs):\n",
    "        print(func.__name__, args, kwargs)\n",
    "        return func(*args, **kwargs)\n",
    "\n",
    "    return cast(MyCallable, wrapper)\n",
    "\n",
    "@logged\n",
    "def mysum(a: int, b: int) -> int:\n",
    "    return a + b\n",
    "\n",
    "mysum(a=1)  # error: Missing positional argument \"b\" in call to \"mysum\""
   ]
  },
  {
   "cell_type": "markdown",
   "metadata": {},
   "source": [
    "# Decimal\n",
    "\n",
    "Такая особенность встречается во многих языках программирования:"
   ]
  },
  {
   "cell_type": "code",
   "execution_count": 18,
   "metadata": {},
   "outputs": [
    {
     "data": {
      "text/plain": [
       "3.3000000000000003"
      ]
     },
     "execution_count": 18,
     "metadata": {},
     "output_type": "execute_result"
    }
   ],
   "source": [
    "1.1 + 2.2"
   ]
  },
  {
   "cell_type": "code",
   "execution_count": 19,
   "metadata": {},
   "outputs": [
    {
     "data": {
      "text/plain": [
       "5.551115123125783e-17"
      ]
     },
     "execution_count": 19,
     "metadata": {},
     "output_type": "execute_result"
    }
   ],
   "source": [
    "0.1 + 0.1 + 0.1 - 0.3"
   ]
  },
  {
   "cell_type": "code",
   "execution_count": null,
   "metadata": {},
   "outputs": [
    {
     "data": {
      "text/plain": [
       "3.3"
      ]
     },
     "execution_count": 20,
     "metadata": {},
     "output_type": "execute_result"
    }
   ],
   "source": [
    "from decimal import Decimal\n",
    "\n",
    "float(Decimal('1.1') + Decimal('2.2'))"
   ]
  },
  {
   "cell_type": "code",
   "execution_count": 21,
   "metadata": {},
   "outputs": [
    {
     "data": {
      "text/plain": [
       "0.0"
      ]
     },
     "execution_count": 21,
     "metadata": {},
     "output_type": "execute_result"
    }
   ],
   "source": [
    "float(Decimal('0.1') + Decimal('0.1') + Decimal('0.1') - Decimal('0.3'))"
   ]
  },
  {
   "cell_type": "markdown",
   "metadata": {},
   "source": [
    "# Logging\n",
    "\n",
    "https://habr.com/ru/post/144566/\n",
    "\n",
    "Когда проект разрастается до определенной степени, появляется необзодимость в ведении журнала событий - лога. Это нужно, чтобы быстро понимать причины ошибок, улавливать нетипичное поведение программы, искать аномалии во входящих данных и т.д.\n",
    "\n",
    "В Python есть встроенная библиотека, которая позволяет удобно логировать события. Изначально представлены 5 уровне логирования:\n",
    "\n",
    "- debug - для отладки\n",
    "- info - просто информационное сообщение\n",
    "- warning - предупреждение\n",
    "- error - ошибка\n",
    "- critical - критическая ошибка"
   ]
  },
  {
   "cell_type": "code",
   "execution_count": 22,
   "metadata": {},
   "outputs": [
    {
     "name": "stderr",
     "output_type": "stream",
     "text": [
      "WARNING:root:Предупреждение\n",
      "ERROR:root:Ошибка\n",
      "CRITICAL:root:Полный крах\n"
     ]
    }
   ],
   "source": [
    "import logging\n",
    "\n",
    "logging.debug(\"Сообщение для отладки\")\n",
    "logging.info(\"Самое обыкновенное информационное сообщение\")\n",
    "logging.warning(\"Предупреждение\")\n",
    "logging.error(\"Ошибка\")\n",
    "logging.critical(\"Полный крах\")"
   ]
  },
  {
   "cell_type": "markdown",
   "metadata": {},
   "source": [
    "Вывелись не все сообщения, поскольку по умолчанию уровень вывода сообщений - warning. Можем его поменять, но это нужно сделать до первого вызова вывода ошибки."
   ]
  },
  {
   "cell_type": "code",
   "execution_count": 23,
   "metadata": {},
   "outputs": [],
   "source": [
    "import logging\n",
    "logging.basicConfig(level=logging.DEBUG)"
   ]
  },
  {
   "cell_type": "code",
   "execution_count": 26,
   "metadata": {},
   "outputs": [
    {
     "name": "stderr",
     "output_type": "stream",
     "text": [
      "WARNING:root:Предупреждение\n",
      "ERROR:root:Ошибка\n",
      "CRITICAL:root:Полный крах\n"
     ]
    }
   ],
   "source": [
    "logging.debug(\"Сообщение для отладки\")\n",
    "logging.info(\"Самое обыкновенное информационное сообщение\")\n",
    "logging.warning(\"Предупреждение\")\n",
    "logging.error(\"Ошибка\")\n",
    "logging.critical(\"Полный крах\")"
   ]
  },
  {
   "cell_type": "markdown",
   "metadata": {},
   "source": [
    "Есть несколько встроенных в библиотеку значений, которые могут помочь сделать лог более подробным: \n",
    "\n",
    "<table class=\"docutils align-default\">\n",
    "<colgroup>\n",
    "<col style=\"width: 18%\">\n",
    "<col style=\"width: 28%\">\n",
    "<col style=\"width: 53%\">\n",
    "</colgroup>\n",
    "<thead>\n",
    "<tr class=\"row-odd\"><th class=\"head\"><p>Attribute name</p></th>\n",
    "<th class=\"head\"><p>Format</p></th>\n",
    "<th class=\"head\"><p>Description</p></th>\n",
    "</tr>\n",
    "</thead>\n",
    "<tbody>\n",
    "<tr class=\"row-even\"><td><p>args</p></td>\n",
    "<td><p>You shouldn’t need to\n",
    "format this yourself.</p></td>\n",
    "<td><p>The tuple of arguments merged into <code class=\"docutils literal notranslate\"><span class=\"pre\">msg</span></code> to\n",
    "produce <code class=\"docutils literal notranslate\"><span class=\"pre\">message</span></code>, or a dict whose values\n",
    "are used for the merge (when there is only one\n",
    "argument, and it is a dictionary).</p></td>\n",
    "</tr>\n",
    "<tr class=\"row-odd\"><td><p>asctime</p></td>\n",
    "<td><p><code class=\"docutils literal notranslate\"><span class=\"pre\">%(asctime)s</span></code></p></td>\n",
    "<td><p>Human-readable time when the\n",
    "<a class=\"reference internal\" href=\"#logging.LogRecord\" title=\"logging.LogRecord\"><code class=\"xref py py-class docutils literal notranslate\"><span class=\"pre\">LogRecord</span></code></a> was created.  By default\n",
    "this is of the form ‘2003-07-08 16:49:45,896’\n",
    "(the numbers after the comma are millisecond\n",
    "portion of the time).</p></td>\n",
    "</tr>\n",
    "<tr class=\"row-even\"><td><p>created</p></td>\n",
    "<td><p><code class=\"docutils literal notranslate\"><span class=\"pre\">%(created)f</span></code></p></td>\n",
    "<td><p>Time when the <a class=\"reference internal\" href=\"#logging.LogRecord\" title=\"logging.LogRecord\"><code class=\"xref py py-class docutils literal notranslate\"><span class=\"pre\">LogRecord</span></code></a> was created\n",
    "(as returned by <a class=\"reference internal\" href=\"time.html#time.time\" title=\"time.time\"><code class=\"xref py py-func docutils literal notranslate\"><span class=\"pre\">time.time()</span></code></a>).</p></td>\n",
    "</tr>\n",
    "<tr class=\"row-odd\"><td><p>exc_info</p></td>\n",
    "<td><p>You shouldn’t need to\n",
    "format this yourself.</p></td>\n",
    "<td><p>Exception tuple (à la <code class=\"docutils literal notranslate\"><span class=\"pre\">sys.exc_info</span></code>) or,\n",
    "if no exception has occurred, <code class=\"docutils literal notranslate\"><span class=\"pre\">None</span></code>.</p></td>\n",
    "</tr>\n",
    "<tr class=\"row-even\"><td><p>filename</p></td>\n",
    "<td><p><code class=\"docutils literal notranslate\"><span class=\"pre\">%(filename)s</span></code></p></td>\n",
    "<td><p>Filename portion of <code class=\"docutils literal notranslate\"><span class=\"pre\">pathname</span></code>.</p></td>\n",
    "</tr>\n",
    "<tr class=\"row-odd\"><td><p>funcName</p></td>\n",
    "<td><p><code class=\"docutils literal notranslate\"><span class=\"pre\">%(funcName)s</span></code></p></td>\n",
    "<td><p>Name of function containing the logging call.</p></td>\n",
    "</tr>\n",
    "<tr class=\"row-even\"><td><p>levelname</p></td>\n",
    "<td><p><code class=\"docutils literal notranslate\"><span class=\"pre\">%(levelname)s</span></code></p></td>\n",
    "<td><p>Text logging level for the message\n",
    "(<code class=\"docutils literal notranslate\"><span class=\"pre\">'DEBUG'</span></code>, <code class=\"docutils literal notranslate\"><span class=\"pre\">'INFO'</span></code>, <code class=\"docutils literal notranslate\"><span class=\"pre\">'WARNING'</span></code>,\n",
    "<code class=\"docutils literal notranslate\"><span class=\"pre\">'ERROR'</span></code>, <code class=\"docutils literal notranslate\"><span class=\"pre\">'CRITICAL'</span></code>).</p></td>\n",
    "</tr>\n",
    "<tr class=\"row-odd\"><td><p>levelno</p></td>\n",
    "<td><p><code class=\"docutils literal notranslate\"><span class=\"pre\">%(levelno)s</span></code></p></td>\n",
    "<td><p>Numeric logging level for the message\n",
    "(<code class=\"xref py py-const docutils literal notranslate\"><span class=\"pre\">DEBUG</span></code>, <code class=\"xref py py-const docutils literal notranslate\"><span class=\"pre\">INFO</span></code>,\n",
    "<code class=\"xref py py-const docutils literal notranslate\"><span class=\"pre\">WARNING</span></code>, <code class=\"xref py py-const docutils literal notranslate\"><span class=\"pre\">ERROR</span></code>,\n",
    "<code class=\"xref py py-const docutils literal notranslate\"><span class=\"pre\">CRITICAL</span></code>).</p></td>\n",
    "</tr>\n",
    "<tr class=\"row-even\"><td><p>lineno</p></td>\n",
    "<td><p><code class=\"docutils literal notranslate\"><span class=\"pre\">%(lineno)d</span></code></p></td>\n",
    "<td><p>Source line number where the logging call was\n",
    "issued (if available).</p></td>\n",
    "</tr>\n",
    "<tr class=\"row-odd\"><td><p>message</p></td>\n",
    "<td><p><code class=\"docutils literal notranslate\"><span class=\"pre\">%(message)s</span></code></p></td>\n",
    "<td><p>The logged message, computed as <code class=\"docutils literal notranslate\"><span class=\"pre\">msg</span> <span class=\"pre\">%</span>\n",
    "<span class=\"pre\">args</span></code>. This is set when\n",
    "<a class=\"reference internal\" href=\"#logging.Formatter.format\" title=\"logging.Formatter.format\"><code class=\"xref py py-meth docutils literal notranslate\"><span class=\"pre\">Formatter.format()</span></code></a> is invoked.</p></td>\n",
    "</tr>\n",
    "<tr class=\"row-even\"><td><p>module</p></td>\n",
    "<td><p><code class=\"docutils literal notranslate\"><span class=\"pre\">%(module)s</span></code></p></td>\n",
    "<td><p>Module (name portion of <code class=\"docutils literal notranslate\"><span class=\"pre\">filename</span></code>).</p></td>\n",
    "</tr>\n",
    "<tr class=\"row-odd\"><td><p>msecs</p></td>\n",
    "<td><p><code class=\"docutils literal notranslate\"><span class=\"pre\">%(msecs)d</span></code></p></td>\n",
    "<td><p>Millisecond portion of the time when the\n",
    "<a class=\"reference internal\" href=\"#logging.LogRecord\" title=\"logging.LogRecord\"><code class=\"xref py py-class docutils literal notranslate\"><span class=\"pre\">LogRecord</span></code></a> was created.</p></td>\n",
    "</tr>\n",
    "<tr class=\"row-even\"><td><p>msg</p></td>\n",
    "<td><p>You shouldn’t need to\n",
    "format this yourself.</p></td>\n",
    "<td><p>The format string passed in the original\n",
    "logging call. Merged with <code class=\"docutils literal notranslate\"><span class=\"pre\">args</span></code> to\n",
    "produce <code class=\"docutils literal notranslate\"><span class=\"pre\">message</span></code>, or an arbitrary object\n",
    "(see <a class=\"reference internal\" href=\"../howto/logging.html#arbitrary-object-messages\"><span class=\"std std-ref\">Using arbitrary objects as messages</span></a>).</p></td>\n",
    "</tr>\n",
    "<tr class=\"row-odd\"><td><p>name</p></td>\n",
    "<td><p><code class=\"docutils literal notranslate\"><span class=\"pre\">%(name)s</span></code></p></td>\n",
    "<td><p>Name of the logger used to log the call.</p></td>\n",
    "</tr>\n",
    "<tr class=\"row-even\"><td><p>pathname</p></td>\n",
    "<td><p><code class=\"docutils literal notranslate\"><span class=\"pre\">%(pathname)s</span></code></p></td>\n",
    "<td><p>Full pathname of the source file where the\n",
    "logging call was issued (if available).</p></td>\n",
    "</tr>\n",
    "<tr class=\"row-odd\"><td><p>process</p></td>\n",
    "<td><p><code class=\"docutils literal notranslate\"><span class=\"pre\">%(process)d</span></code></p></td>\n",
    "<td><p>Process ID (if available).</p></td>\n",
    "</tr>\n",
    "<tr class=\"row-even\"><td><p>processName</p></td>\n",
    "<td><p><code class=\"docutils literal notranslate\"><span class=\"pre\">%(processName)s</span></code></p></td>\n",
    "<td><p>Process name (if available).</p></td>\n",
    "</tr>\n",
    "<tr class=\"row-odd\"><td><p>relativeCreated</p></td>\n",
    "<td><p><code class=\"docutils literal notranslate\"><span class=\"pre\">%(relativeCreated)d</span></code></p></td>\n",
    "<td><p>Time in milliseconds when the LogRecord was\n",
    "created, relative to the time the logging\n",
    "module was loaded.</p></td>\n",
    "</tr>\n",
    "<tr class=\"row-even\"><td><p>stack_info</p></td>\n",
    "<td><p>You shouldn’t need to\n",
    "format this yourself.</p></td>\n",
    "<td><p>Stack frame information (where available)\n",
    "from the bottom of the stack in the current\n",
    "thread, up to and including the stack frame\n",
    "of the logging call which resulted in the\n",
    "creation of this record.</p></td>\n",
    "</tr>\n",
    "<tr class=\"row-odd\"><td><p>thread</p></td>\n",
    "<td><p><code class=\"docutils literal notranslate\"><span class=\"pre\">%(thread)d</span></code></p></td>\n",
    "<td><p>Thread ID (if available).</p></td>\n",
    "</tr>\n",
    "<tr class=\"row-even\"><td><p>threadName</p></td>\n",
    "<td><p><code class=\"docutils literal notranslate\"><span class=\"pre\">%(threadName)s</span></code></p></td>\n",
    "<td><p>Thread name (if available).</p></td>\n",
    "</tr>\n",
    "</tbody>\n",
    "</table>\n",
    "\n",
    "Применяются они так:"
   ]
  },
  {
   "cell_type": "code",
   "execution_count": 45,
   "metadata": {},
   "outputs": [],
   "source": [
    "import logging\n",
    "\n",
    "logging.basicConfig(\n",
    "    format='%(filename)s[LINE:%(lineno)d]# %(levelname)-8s [%(asctime)s]  %(message)s',\n",
    "    level=logging.DEBUG\n",
    ")"
   ]
  },
  {
   "cell_type": "code",
   "execution_count": 46,
   "metadata": {},
   "outputs": [
    {
     "name": "stderr",
     "output_type": "stream",
     "text": [
      "WARNING:root:Предупреждение\n",
      "ERROR:root:Ошибка\n",
      "CRITICAL:root:Полный крах\n"
     ]
    }
   ],
   "source": [
    "logging.debug(\"Сообщение для отладки\")\n",
    "logging.info(\"Самое обыкновенное информационное сообщение\")\n",
    "logging.warning(\"Предупреждение\")\n",
    "logging.error(\"Ошибка\")\n",
    "logging.critical(\"Полный крах\")"
   ]
  },
  {
   "cell_type": "markdown",
   "metadata": {},
   "source": [
    "## Запись лога в файл\n",
    "\n",
    "Конечно, просто выводить логи на экран - бессмысленная затея. Нужно сохранять их в файл:"
   ]
  },
  {
   "cell_type": "code",
   "execution_count": 48,
   "metadata": {},
   "outputs": [
    {
     "name": "stderr",
     "output_type": "stream",
     "text": [
      "WARNING:root:Предупреждение\n",
      "ERROR:root:Ошибка\n",
      "CRITICAL:root:Полный крах\n"
     ]
    }
   ],
   "source": [
    "import logging\n",
    "\n",
    "logging.basicConfig(\n",
    "    format='%(filename)s[LINE:%(lineno)d]# %(levelname)-8s [%(asctime)s]  %(message)s',\n",
    "    level=logging.DEBUG,\n",
    "    filename=\"log.txt\",\n",
    "    filemode=\"w\"\n",
    ")\n",
    "\n",
    "logging.debug(\"Сообщение для отладки\")\n",
    "logging.info(\"Самое обыкновенное информационное сообщение\")\n",
    "logging.warning(\"Предупреждение\")\n",
    "logging.error(\"Ошибка\")\n",
    "logging.critical(\"Полный крах\")"
   ]
  },
  {
   "cell_type": "code",
   "execution_count": 49,
   "metadata": {},
   "outputs": [
    {
     "name": "stdout",
     "output_type": "stream",
     "text": [
      "<ipython-input-1-62cc18cfba68>[LINE:10]# DEBUG    [2022-12-02 01:11:33,348]  РЎРѕРѕР±С‰РµРЅРёРµ РґР»СЏ РѕС‚Р»Р°РґРєРё\n",
      "<ipython-input-1-62cc18cfba68>[LINE:11]# INFO     [2022-12-02 01:11:33,349]  РЎР°РјРѕРµ РѕР±С‹РєРЅРѕРІРµРЅРЅРѕРµ РёРЅС„РѕСЂРјР°С†РёРѕРЅРЅРѕРµ СЃРѕРѕР±С‰РµРЅРёРµ\n",
      "<ipython-input-1-62cc18cfba68>[LINE:12]# WARNING  [2022-12-02 01:11:33,349]  РџСЂРµРґСѓРїСЂРµР¶РґРµРЅРёРµ\n",
      "<ipython-input-1-62cc18cfba68>[LINE:13]# ERROR    [2022-12-02 01:11:33,349]  РћС€РёР±РєР°\n",
      "<ipython-input-1-62cc18cfba68>[LINE:14]# CRITICAL [2022-12-02 01:11:33,350]  РџРѕР»РЅС‹Р№ РєСЂР°С…\n",
      "<ipython-input-4-c291bfcc7c8e>[LINE:1]# INFO     [2022-12-02 01:14:35,538]  РќР°С€ РЅРѕРІС‹Р№ Р»РѕРіРіРµСЂ СЂР°Р±РѕС‚Р°РµС‚\n",
      "\n"
     ]
    }
   ],
   "source": [
    "with open(\"log.txt\") as f:\n",
    "    print(f.read())"
   ]
  },
  {
   "cell_type": "markdown",
   "metadata": {},
   "source": [
    "## Несколько логгеров\n",
    "\n",
    "Использование общей конфигурации для логов на весь проект - плохая идея, поскольку это влияет и на логи окружения, и всё сливается в одну кашу. Лучше завести для каждой отдельной части крупного приложения свой логгер."
   ]
  },
  {
   "cell_type": "code",
   "execution_count": 51,
   "metadata": {},
   "outputs": [],
   "source": [
    "import logging\n",
    "\n",
    "# получим логгер для нашего приложения либо создадим новый, если он еще не создан (паттерн Синглтон)\n",
    "logger = logging.getLogger(\"our_app_name\")\n",
    "logger.setLevel(logging.DEBUG)\n",
    "# опишем, куда и как будем сохранять логи: зададим файл и формат\n",
    "handler = logging.FileHandler('our_app_log.txt', 'a', 'utf-8')\n",
    "formatter = logging.Formatter(\"%(filename)s[LINE:%(lineno)d]# %(levelname)-8s [%(asctime)s]  %(message)s\")\n",
    "\n",
    "# установим файлу нужный формат, а нужный файл - логгеру\n",
    "handler.setFormatter(formatter)\n",
    "logger.addHandler(handler)\n",
    "\n",
    "# можно даже записывать сразу в несколько файлов\n",
    "handler2 = logging.FileHandler('our_app_log2.txt', 'a', 'utf-8')\n",
    "handler2.setFormatter(formatter)\n",
    "logger.addHandler(handler2)"
   ]
  },
  {
   "cell_type": "code",
   "execution_count": 52,
   "metadata": {},
   "outputs": [
    {
     "name": "stderr",
     "output_type": "stream",
     "text": [
      "INFO:our_app_name:Наш новый логгер работает\n"
     ]
    }
   ],
   "source": [
    "logger.info(\"Наш новый логгер работает\")"
   ]
  },
  {
   "cell_type": "code",
   "execution_count": 42,
   "metadata": {},
   "outputs": [
    {
     "name": "stdout",
     "output_type": "stream",
     "text": [
      "<ipython-input-4-c291bfcc7c8e>[LINE:1]# INFO     [2022-12-02 01:14:35,538]  Наш новый логгер работает\n",
      "3660270603.py[LINE:1]# INFO     [2025-02-05 15:59:49,799]  Наш новый логгер работает\n",
      "\n"
     ]
    }
   ],
   "source": [
    "with open(\"our_app_log2.txt\", encoding=\"utf8\") as f:\n",
    "    print(f.read())"
   ]
  },
  {
   "cell_type": "code",
   "execution_count": 53,
   "metadata": {},
   "outputs": [
    {
     "data": {
      "text/plain": [
       "[<FileHandler c:\\projects\\perfomanceQA\\PerfomanceQA\\Python\\8 week\\our_app_log.txt (NOTSET)>,\n",
       " <FileHandler c:\\projects\\perfomanceQA\\PerfomanceQA\\Python\\8 week\\our_app_log2.txt (NOTSET)>,\n",
       " <FileHandler c:\\projects\\perfomanceQA\\PerfomanceQA\\Python\\8 week\\our_app_log.txt (NOTSET)>,\n",
       " <FileHandler c:\\projects\\perfomanceQA\\PerfomanceQA\\Python\\8 week\\our_app_log2.txt (NOTSET)>,\n",
       " <FileHandler c:\\projects\\perfomanceQA\\PerfomanceQA\\Python\\8 week\\our_app_log.txt (NOTSET)>,\n",
       " <FileHandler c:\\projects\\perfomanceQA\\PerfomanceQA\\Python\\8 week\\our_app_log2.txt (NOTSET)>]"
      ]
     },
     "execution_count": 53,
     "metadata": {},
     "output_type": "execute_result"
    }
   ],
   "source": [
    "logger.handlers"
   ]
  },
  {
   "cell_type": "code",
   "execution_count": 54,
   "metadata": {},
   "outputs": [],
   "source": [
    "handler.close()\n",
    "handler2.close()"
   ]
  },
  {
   "cell_type": "code",
   "execution_count": null,
   "metadata": {},
   "outputs": [],
   "source": []
  }
 ],
 "metadata": {
  "kernelspec": {
   "display_name": ".venv",
   "language": "python",
   "name": "python3"
  },
  "language_info": {
   "codemirror_mode": {
    "name": "ipython",
    "version": 3
   },
   "file_extension": ".py",
   "mimetype": "text/x-python",
   "name": "python",
   "nbconvert_exporter": "python",
   "pygments_lexer": "ipython3",
   "version": "3.13.0"
  }
 },
 "nbformat": 4,
 "nbformat_minor": 2
}
