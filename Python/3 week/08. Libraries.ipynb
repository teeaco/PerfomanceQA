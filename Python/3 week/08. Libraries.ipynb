{
 "cells": [
  {
   "cell_type": "markdown",
   "metadata": {
    "colab_type": "text",
    "id": "ThHYoaTjFv4m"
   },
   "source": [
    "# Импорт библиотек и создание рабочего окружения"
   ]
  },
  {
   "cell_type": "markdown",
   "metadata": {
    "colab_type": "text",
    "id": "Lxqk2gccLbn-"
   },
   "source": [
    "Модулем в Python называется некоторая небольшая программа.\n",
    "\n",
    "Каждая программа может импортировать модуль и получить доступ к его классам, функциям и объектам. Нужно заметить, что модуль может быть написан не только на Python, а например, на C или C++."
   ]
  },
  {
   "cell_type": "markdown",
   "metadata": {
    "colab_type": "text",
    "id": "oawrGkLQLjwd"
   },
   "source": [
    "## Подключение модуля из стандартной библиотеки\n",
    "\n",
    "Подключить модуль можно с помощью инструкции `import`. Модули обычно подключаются в самом начале кода."
   ]
  },
  {
   "cell_type": "code",
   "execution_count": 1,
   "metadata": {
    "colab": {
     "base_uri": "https://localhost:8080/",
     "height": 34
    },
    "colab_type": "code",
    "executionInfo": {
     "elapsed": 1538,
     "status": "ok",
     "timestamp": 1575366877695,
     "user": {
      "displayName": "Надежда Демиденко",
      "photoUrl": "https://lh3.googleusercontent.com/a-/AAuE7mA6D7k5OgtG9hzPe8Abs8DfOKAXQoTXaPfn7EY=s64",
      "userId": "05224310221243935536"
     },
     "user_tz": -180
    },
    "id": "swPqYbkPFqKh",
    "outputId": "1ff8a720-a12e-431c-a51a-35572eca530a"
   },
   "outputs": [
    {
     "name": "stdout",
     "output_type": "stream",
     "text": [
      "c:\\projects\\perfomanceQA\\PerfomanceQA\\Python\\3 week\n"
     ]
    }
   ],
   "source": [
    "import os\n",
    "print(os.getcwd())"
   ]
  },
  {
   "cell_type": "markdown",
   "metadata": {
    "colab_type": "text",
    "id": "7G8CGVg3LxBh"
   },
   "source": [
    "После ключевого слова `import` указывается название модуля.\n",
    "\n",
    "Одной инструкцией можно подключить несколько модулей, хотя этого не рекомендуется делать, так как это снижает читаемость кода.\n",
    "\n",
    "> Когда вы импортируете модуль, интерпретатор Python ищет этот модуль в следующих местах:\n",
    "- Директория, в которой находится файл, в котором вызывается команда импорта\n",
    "- Если модуль не найден, Python ищет в каждой директории, определенной в переменной окружения PYTHONPATH.\n",
    "- Если и там модуль не найден, Python проверяет путь, заданный по умолчанию\n",
    ">\n",
    "> Путь поиска модулей сохранен в системном модуле `sys` в переменной `path`. Переменная `sys.path` содержит все три вышеописанных места поиска модулей."
   ]
  },
  {
   "cell_type": "code",
   "execution_count": 2,
   "metadata": {},
   "outputs": [
    {
     "data": {
      "text/plain": [
       "['C:\\\\Users\\\\bronn\\\\AppData\\\\Local\\\\Programs\\\\Python\\\\Python313\\\\python313.zip',\n",
       " 'C:\\\\Users\\\\bronn\\\\AppData\\\\Local\\\\Programs\\\\Python\\\\Python313\\\\DLLs',\n",
       " 'C:\\\\Users\\\\bronn\\\\AppData\\\\Local\\\\Programs\\\\Python\\\\Python313\\\\Lib',\n",
       " 'C:\\\\Users\\\\bronn\\\\AppData\\\\Local\\\\Programs\\\\Python\\\\Python313',\n",
       " 'c:\\\\projects\\\\perfomanceQA\\\\PerfomanceQA\\\\.venv',\n",
       " '',\n",
       " 'c:\\\\projects\\\\perfomanceQA\\\\PerfomanceQA\\\\.venv\\\\Lib\\\\site-packages',\n",
       " 'c:\\\\projects\\\\perfomanceQA\\\\PerfomanceQA\\\\.venv\\\\Lib\\\\site-packages\\\\win32',\n",
       " 'c:\\\\projects\\\\perfomanceQA\\\\PerfomanceQA\\\\.venv\\\\Lib\\\\site-packages\\\\win32\\\\lib',\n",
       " 'c:\\\\projects\\\\perfomanceQA\\\\PerfomanceQA\\\\.venv\\\\Lib\\\\site-packages\\\\Pythonwin']"
      ]
     },
     "execution_count": 2,
     "metadata": {},
     "output_type": "execute_result"
    }
   ],
   "source": [
    "import sys\n",
    "\n",
    "sys.path"
   ]
  },
  {
   "cell_type": "code",
   "execution_count": 3,
   "metadata": {
    "colab": {
     "base_uri": "https://localhost:8080/",
     "height": 51
    },
    "colab_type": "code",
    "executionInfo": {
     "elapsed": 1606,
     "status": "ok",
     "timestamp": 1575366915458,
     "user": {
      "displayName": "Надежда Демиденко",
      "photoUrl": "https://lh3.googleusercontent.com/a-/AAuE7mA6D7k5OgtG9hzPe8Abs8DfOKAXQoTXaPfn7EY=s64",
      "userId": "05224310221243935536"
     },
     "user_tz": -180
    },
    "id": "0zbFRQdzLxzR",
    "outputId": "16c57093-355e-46c6-d17c-d1c9b08f61be"
   },
   "outputs": [
    {
     "name": "stdout",
     "output_type": "stream",
     "text": [
      "1738231687.8912086\n",
      "0.005470218479787126\n"
     ]
    }
   ],
   "source": [
    "import time, random\n",
    "print(time.time())\n",
    "print(random.random())"
   ]
  },
  {
   "cell_type": "markdown",
   "metadata": {
    "colab_type": "text",
    "id": "0jJgLsTuL623"
   },
   "source": [
    "После импортирования модуля его название становится переменной, через которую можно получить доступ к атрибутам модуля. Например, можно обратиться к константе e, расположенной в модуле math:"
   ]
  },
  {
   "cell_type": "code",
   "execution_count": 4,
   "metadata": {
    "colab": {
     "base_uri": "https://localhost:8080/",
     "height": 34
    },
    "colab_type": "code",
    "executionInfo": {
     "elapsed": 890,
     "status": "ok",
     "timestamp": 1575366946777,
     "user": {
      "displayName": "Надежда Демиденко",
      "photoUrl": "https://lh3.googleusercontent.com/a-/AAuE7mA6D7k5OgtG9hzPe8Abs8DfOKAXQoTXaPfn7EY=s64",
      "userId": "05224310221243935536"
     },
     "user_tz": -180
    },
    "id": "pF4b11-_L7sH",
    "outputId": "c7285068-f8fb-4def-c0e2-2366ac25313c"
   },
   "outputs": [
    {
     "name": "stdout",
     "output_type": "stream",
     "text": [
      "2.718281828459045\n"
     ]
    }
   ],
   "source": [
    "import math\n",
    "print(math.e)"
   ]
  },
  {
   "cell_type": "markdown",
   "metadata": {
    "colab_type": "text",
    "id": "p13DEJvfNlvh"
   },
   "source": [
    "### Использование псевдонимов\n",
    "\n",
    "Если название модуля слишком длинное, или оно вам не нравится по каким-то другим причинам, то для него можно создать псевдоним, с помощью ключевого слова `as`.\n",
    "\n",
    "Теперь доступ ко всем атрибутам модуля math осуществляется только с помощью переменной m, а переменной math в этой программе уже не будет."
   ]
  },
  {
   "cell_type": "code",
   "execution_count": 5,
   "metadata": {
    "colab": {
     "base_uri": "https://localhost:8080/",
     "height": 34
    },
    "colab_type": "code",
    "executionInfo": {
     "elapsed": 1063,
     "status": "ok",
     "timestamp": 1575367509174,
     "user": {
      "displayName": "Надежда Демиденко",
      "photoUrl": "https://lh3.googleusercontent.com/a-/AAuE7mA6D7k5OgtG9hzPe8Abs8DfOKAXQoTXaPfn7EY=s64",
      "userId": "05224310221243935536"
     },
     "user_tz": -180
    },
    "id": "-ySNfWHIOE0G",
    "outputId": "d5bf9f55-1135-4c90-aa2c-71056f943a76"
   },
   "outputs": [
    {
     "name": "stdout",
     "output_type": "stream",
     "text": [
      "2.718281828459045\n"
     ]
    }
   ],
   "source": [
    "import math as m\n",
    "print(m.e)"
   ]
  },
  {
   "cell_type": "markdown",
   "metadata": {
    "colab_type": "text",
    "id": "TATqdSrcObfK"
   },
   "source": [
    "### Инструкция from\n",
    "\n",
    "Подключить определенные атрибуты модуля можно с помощью инструкции from. Она имеет несколько форматов:\n",
    "\n",
    "```\n",
    "from <Название модуля> import <Атрибут 1> [ as <Псевдоним 1> ], [<Атрибут 2> [ as <Псевдоним 2> ] ...]\n",
    "from <Название модуля> import *\n",
    "```\n",
    "\n",
    "Первый формат позволяет подключить из модуля только указанные вами атрибуты. Для длинных имен также можно назначить псевдоним, указав его после ключевого слова `as`."
   ]
  },
  {
   "cell_type": "code",
   "execution_count": 6,
   "metadata": {
    "colab": {
     "base_uri": "https://localhost:8080/",
     "height": 51
    },
    "colab_type": "code",
    "executionInfo": {
     "elapsed": 824,
     "status": "ok",
     "timestamp": 1575368355165,
     "user": {
      "displayName": "Надежда Демиденко",
      "photoUrl": "https://lh3.googleusercontent.com/a-/AAuE7mA6D7k5OgtG9hzPe8Abs8DfOKAXQoTXaPfn7EY=s64",
      "userId": "05224310221243935536"
     },
     "user_tz": -180
    },
    "id": "nHbMYOWPRSeQ",
    "outputId": "a6f7402e-fc7f-41d5-c2f5-336a70a59253"
   },
   "outputs": [
    {
     "name": "stdout",
     "output_type": "stream",
     "text": [
      "2.718281828459045\n",
      "5\n"
     ]
    }
   ],
   "source": [
    "from math import e, ceil as c\n",
    "print(e)\n",
    "print(c(4.6))"
   ]
  },
  {
   "cell_type": "markdown",
   "metadata": {
    "colab_type": "text",
    "id": "9h5cUJTPRd-2"
   },
   "source": [
    "Импортируемые атрибуты можно разместить на нескольких строках, если их много, для лучшей читаемости кода:"
   ]
  },
  {
   "cell_type": "code",
   "execution_count": 7,
   "metadata": {
    "colab": {},
    "colab_type": "code",
    "id": "64cizz-9Rmee"
   },
   "outputs": [],
   "source": [
    "from math import (sin, cos,\n",
    "                  tan, atan)"
   ]
  },
  {
   "cell_type": "markdown",
   "metadata": {
    "colab_type": "text",
    "id": "YDQ-IEEzRvnv"
   },
   "source": [
    "Второй формат инструкции from позволяет почти все переменные из модуля. Для примера импортируем все атрибуты из модуля sys.\n",
    "\n",
    "Следует заметить, что не все атрибуты будут импортированы. Если в модуле определена переменная `__all__` (список атрибутов, которые могут быть подключены), то будут подключены только атрибуты из этого списка. Если переменная `__all__` не определена, то будут подключены все атрибуты, не начинающиеся с нижнего подчёркивания. Кроме того, необходимо учитывать, что импортирование всех атрибутов из модуля может нарушить пространство имен главной программы, так как переменные, имеющие одинаковые имена, будут перезаписаны."
   ]
  },
  {
   "cell_type": "code",
   "execution_count": 9,
   "metadata": {
    "colab": {
     "base_uri": "https://localhost:8080/",
     "height": 68
    },
    "colab_type": "code",
    "executionInfo": {
     "elapsed": 1297,
     "status": "ok",
     "timestamp": 1575370503286,
     "user": {
      "displayName": "Надежда Демиденко",
      "photoUrl": "https://lh3.googleusercontent.com/a-/AAuE7mA6D7k5OgtG9hzPe8Abs8DfOKAXQoTXaPfn7EY=s64",
      "userId": "05224310221243935536"
     },
     "user_tz": -180
    },
    "id": "BrDBzuJ2R8kE",
    "outputId": "ce8acf51-f196-4d6c-8b90-8fe54f04127a"
   },
   "outputs": [
    {
     "name": "stdout",
     "output_type": "stream",
     "text": [
      "3.8.5 (default, Sep  4 2020, 02:22:02) \n",
      "[Clang 10.0.0 ]\n",
      "sys.version_info(major=3, minor=8, micro=5, releaselevel='final', serial=0)\n"
     ]
    }
   ],
   "source": [
    "from sys import *\n",
    "print(version)\n",
    "print(version_info)"
   ]
  },
  {
   "cell_type": "markdown",
   "metadata": {
    "colab_type": "text",
    "id": "DxaRLoUESbIl"
   },
   "source": [
    "## Создание модуля\n",
    "\n",
    "Можно использовать как библиотеку и самостоятельно созданный файл с функциями. Он подключается так же, как и стандартные библиотеки - через имя файла.\n",
    "\n",
    "При импортировании модуля его код выполняется полностью. То есть, если программа что-то печатает, то при её импортировании это будет напечатано. Этого можно избежать, если проверять, запущен ли скрипт как программа, или импортирован. Это можно сделать с помощью переменной `__name__`, которая определена в любой программе, и равна \"`__main__`\", если скрипт запущен в качестве главной программы, и имя, если он импортирован.\n",
    "\n",
    "Пример такого кода:"
   ]
  },
  {
   "cell_type": "code",
   "execution_count": 19,
   "metadata": {
    "colab": {},
    "colab_type": "code",
    "id": "LUiv-bPZTHfK"
   },
   "outputs": [
    {
     "name": "stdout",
     "output_type": "stream",
     "text": [
      "Hello, world!\n",
      "1\n",
      "1\n",
      "1\n",
      "2\n",
      "3\n",
      "5\n",
      "8\n",
      "13\n",
      "21\n",
      "34\n"
     ]
    }
   ],
   "source": [
    "def hello():\n",
    "    print('Hello, world!')\n",
    "\n",
    "def fib(n):\n",
    "    a = b = 1\n",
    "    for i in range(n - 2):\n",
    "        a, b = b, a + b\n",
    "    return b\n",
    "\n",
    "if __name__ == \"__main__\":\n",
    "    hello()\n",
    "    for i in range(10):\n",
    "        print(fib(i))"
   ]
  },
  {
   "cell_type": "code",
   "execution_count": 18,
   "metadata": {},
   "outputs": [
    {
     "data": {
      "text/plain": [
       "'__main__'"
      ]
     },
     "execution_count": 18,
     "metadata": {},
     "output_type": "execute_result"
    }
   ],
   "source": [
    "__name__"
   ]
  },
  {
   "cell_type": "code",
   "execution_count": 1,
   "metadata": {},
   "outputs": [
    {
     "name": "stdout",
     "output_type": "stream",
     "text": [
      "our_module\n"
     ]
    }
   ],
   "source": [
    "import our_module"
   ]
  },
  {
   "cell_type": "code",
   "execution_count": 12,
   "metadata": {},
   "outputs": [
    {
     "data": {
      "text/plain": [
       "<function our_module.fib(n)>"
      ]
     },
     "execution_count": 12,
     "metadata": {},
     "output_type": "execute_result"
    }
   ],
   "source": [
    "our_module.fib"
   ]
  },
  {
   "cell_type": "code",
   "execution_count": 13,
   "metadata": {},
   "outputs": [],
   "source": [
    "from our_module import fib"
   ]
  },
  {
   "cell_type": "code",
   "execution_count": 14,
   "metadata": {},
   "outputs": [
    {
     "data": {
      "text/plain": [
       "<function our_module.fib(n)>"
      ]
     },
     "execution_count": 14,
     "metadata": {},
     "output_type": "execute_result"
    }
   ],
   "source": [
    "fib"
   ]
  },
  {
   "cell_type": "markdown",
   "metadata": {
    "colab_type": "text",
    "id": "ehBiYfGsU9v5"
   },
   "source": [
    "## Система управления пакетами pip\n",
    "\n",
    "Для установки пакетов Python будет использоваться pip. Это система управления пакетами, которая используется для установки пакетов из Python Package Index (PyPI). Скорее всего, если у вас уже установлен Python, то установлен и pip.\n",
    "\n",
    "**Примечание**. В Jupyter Notebook есть возможность исполнять команды командной строки операционной системы (т.е. это не питоновские скрипты, а прямое обращение к системе на понятном ей языке команд. Для макбука и линукса это bash, а для винды - ее собственный ужасный диалект). Чтобы исполнить команды командной строки прямо в блокноте, нужно добавить `!` в начале строки.\n",
    "\n",
    "Проверка версии pip:"
   ]
  },
  {
   "cell_type": "code",
   "execution_count": 8,
   "metadata": {
    "colab": {
     "base_uri": "https://localhost:8080/",
     "height": 34
    },
    "colab_type": "code",
    "executionInfo": {
     "elapsed": 3373,
     "status": "ok",
     "timestamp": 1575369458409,
     "user": {
      "displayName": "Надежда Демиденко",
      "photoUrl": "https://lh3.googleusercontent.com/a-/AAuE7mA6D7k5OgtG9hzPe8Abs8DfOKAXQoTXaPfn7EY=s64",
      "userId": "05224310221243935536"
     },
     "user_tz": -180
    },
    "id": "30l9alUrVBS8",
    "outputId": "ac135ac4-dac5-49f9-802a-c22ffa42754c"
   },
   "outputs": [
    {
     "name": "stdout",
     "output_type": "stream",
     "text": [
      "pip 25.0 from c:\\projects\\perfomanceQA\\PerfomanceQA\\.venv\\Lib\\site-packages\\pip (python 3.13)\n",
      "\n"
     ]
    }
   ],
   "source": [
    "!pip --version"
   ]
  },
  {
   "cell_type": "markdown",
   "metadata": {
    "colab_type": "text",
    "id": "4k19m70DVqB9"
   },
   "source": [
    "> **Примечание:**\n",
    ">\n",
    "> *В зависимости от того, как установлен и настроен Python в системе, может потребоваться использовать pip3 вместо pip.*"
   ]
  },
  {
   "cell_type": "markdown",
   "metadata": {
    "colab_type": "text",
    "id": "NyVkOrs0VUDX"
   },
   "source": [
    "Установка пакета:\n",
    "\n",
    "`pip install tabulate`\n",
    "\n",
    "Обновление пакета:\n",
    "\n",
    "`pip install --upgrade tabulate`\n",
    "\n",
    "Установка пакета конкретной версии:\n",
    "\n",
    "`pip install tabulate==2.6.0`\n",
    "\n",
    "Удаление пакета:\n",
    "\n",
    "`pip uninstall tabulate`"
   ]
  },
  {
   "cell_type": "markdown",
   "metadata": {
    "colab_type": "text",
    "id": "5GuZtlZDWSpj"
   },
   "source": [
    "По умолчанию pip устанавливает пакеты в системную директорию.\n",
    "\n",
    "Опция `--user` позволяет установить пакет в домашнюю директорию пользователя от имени пользователя."
   ]
  },
  {
   "cell_type": "code",
   "execution_count": 9,
   "metadata": {
    "colab": {},
    "colab_type": "code",
    "id": "ynhzpADeXecs"
   },
   "outputs": [
    {
     "name": "stdout",
     "output_type": "stream",
     "text": [
      "Requirement already satisfied: pip in c:\\projects\\perfomanceqa\\perfomanceqa\\.venv\\lib\\site-packages (25.0)\n"
     ]
    }
   ],
   "source": [
    "!pip install --upgrade pip"
   ]
  },
  {
   "cell_type": "markdown",
   "metadata": {
    "colab_type": "text",
    "id": "9EXmMfXXaHuO"
   },
   "source": [
    "`pip show` выведет информацию о пакете."
   ]
  },
  {
   "cell_type": "code",
   "execution_count": 10,
   "metadata": {
    "colab": {
     "base_uri": "https://localhost:8080/",
     "height": 187
    },
    "colab_type": "code",
    "executionInfo": {
     "elapsed": 5190,
     "status": "ok",
     "timestamp": 1575639193333,
     "user": {
      "displayName": "Надежда Демиденко",
      "photoUrl": "https://lh3.googleusercontent.com/a-/AAuE7mA6D7k5OgtG9hzPe8Abs8DfOKAXQoTXaPfn7EY=s64",
      "userId": "05224310221243935536"
     },
     "user_tz": -180
    },
    "id": "yiOIM1c0aLWn",
    "outputId": "7d25c527-0b8f-4eee-910e-ba6597416884"
   },
   "outputs": [
    {
     "name": "stderr",
     "output_type": "stream",
     "text": [
      "WARNING: Package(s) not found: numpy\n"
     ]
    }
   ],
   "source": [
    "!pip show numpy"
   ]
  },
  {
   "cell_type": "markdown",
   "metadata": {
    "colab_type": "text",
    "id": "rHb1iJHqaiAm"
   },
   "source": [
    "`pip list` выведет список всех установленных в данном окружении пакетов"
   ]
  },
  {
   "cell_type": "code",
   "execution_count": 11,
   "metadata": {
    "colab": {
     "base_uri": "https://localhost:8080/",
     "height": 1000
    },
    "colab_type": "code",
    "executionInfo": {
     "elapsed": 3310,
     "status": "ok",
     "timestamp": 1575639234779,
     "user": {
      "displayName": "Надежда Демиденко",
      "photoUrl": "https://lh3.googleusercontent.com/a-/AAuE7mA6D7k5OgtG9hzPe8Abs8DfOKAXQoTXaPfn7EY=s64",
      "userId": "05224310221243935536"
     },
     "user_tz": -180
    },
    "id": "i6EZDhoOap0M",
    "outputId": "c14a76f9-0145-4158-ae4c-44c5743b2e96"
   },
   "outputs": [
    {
     "name": "stdout",
     "output_type": "stream",
     "text": [
      "Package           Version\n",
      "----------------- -----------\n",
      "asttokens         3.0.0\n",
      "colorama          0.4.6\n",
      "comm              0.2.2\n",
      "debugpy           1.8.12\n",
      "decorator         5.1.1\n",
      "executing         2.2.0\n",
      "ipykernel         6.29.5\n",
      "ipython           8.31.0\n",
      "jedi              0.19.2\n",
      "jupyter_client    8.6.3\n",
      "jupyter_core      5.7.2\n",
      "matplotlib-inline 0.1.7\n",
      "nest-asyncio      1.6.0\n",
      "packaging         24.2\n",
      "parso             0.8.4\n",
      "pip               25.0\n",
      "platformdirs      4.3.6\n",
      "prompt_toolkit    3.0.50\n",
      "psutil            6.1.1\n",
      "pure_eval         0.2.3\n",
      "Pygments          2.19.1\n",
      "python-dateutil   2.9.0.post0\n",
      "pywin32           308\n",
      "pyzmq             26.2.0\n",
      "six               1.17.0\n",
      "stack-data        0.6.3\n",
      "tornado           6.4.2\n",
      "traitlets         5.14.3\n",
      "wcwidth           0.2.13\n"
     ]
    }
   ],
   "source": [
    "!pip list"
   ]
  },
  {
   "cell_type": "markdown",
   "metadata": {
    "colab_type": "text",
    "id": "YyQKBXNNW9sL"
   },
   "source": [
    "## Виртуальное окружение\n",
    "\n",
    "Виртуальное окружение - это изолированное окружение среды, которое позволяет нам использовать определенные версии приложений.\n",
    "\n",
    "Все пакеты, работающие с виртуальным окружением решают одну проблему - они позволяют проектам, которые имеют различные (и часто конфликтующие) зависимости, сосуществовать на одной системе.\n",
    "\n",
    "Некоторые пакеты для работы с виртуальными окружениями:\n",
    "\n",
    "- **Virtualenv**\n",
    "\n",
    "`virtualenv` - стандартный пакет для работы с виртуальным окружением. Используется вместе с virtualenvwrapper для более удобной работы.\n",
    "\n",
    "Установка: `pip install virtualenv`\n",
    "\n",
    "\n",
    "- **Conda**\n",
    "\n",
    "Conda - пакетный менеджер, который также позволяет нам создавать виртуальные окружения.\n",
    "\n",
    "Начиная с Python 3.3 и 3.4, рекомендуемый способ создания виртуального пространства – это использование инструмента командной строки **pyvenv**, который также включен в инсталляцию Python 3 по умолчанию. Однако в версии 3.6 и выше, вам нужен **python -m venv**. Начиная с 3.7, чаще всего принято использовать conda, но всё зависит от компании и коллектива."
   ]
  },
  {
   "cell_type": "markdown",
   "metadata": {
    "colab_type": "text",
    "id": "JFh_bdmtRt86"
   },
   "source": [
    "Новая виртуальная среда в **venv** создается при помощи команды:\n",
    "\n",
    "```\n",
    "python -m venv env\n",
    "```\n",
    "\n",
    "Эта команда создает каталог под названием \"env\", структура каталога которого схожа со следующей:\n",
    "\n",
    "```\n",
    "├── bin\n",
    "│   ├── activate\n",
    "│   ├── activate.csh\n",
    "│   ├── activate.fish\n",
    "│   ├── easy_install\n",
    "│   ├── easy_install-3.5\n",
    "│   ├── pip\n",
    "│   ├── pip3\n",
    "│   ├── pip3.5\n",
    "│   ├── python -> python3.5\n",
    "│   ├── python3 -> python3.5\n",
    "│   └── python3.5 -> /Library/Frameworks/Python.framework/Versions/3.5/bin/python3.5\n",
    "├── include\n",
    "├── lib\n",
    "│   └── python3.5\n",
    "│       └── site-packages\n",
    "└── pyvenv.cfg\n",
    "```\n",
    "\n",
    "- **bin** – файлы, которые взаимодействуют с виртуальной средой;\n",
    "- **include** – С-заголовки, компилирующие пакеты Python;\n",
    "- **lib** – копия версии Python вместе с папкой \"site-packages\", в которой установлена каждая зависимость.\n",
    "\n",
    "Чтобы использовать эти пакеты (или ресурсы) среды в изоляции, вам нужно «активировать» их, запустив скрипт **activate** в каталоге \"bin\":\n",
    "\n",
    "```\n",
    "source env/bin/activate\n",
    "```\n",
    "\n",
    "Приглашение командной строки теперь носит префикс вашей среды (в нашем случае – env). Это индикатор того, что env в данный момент активен, что в свою очередь говорит о том, что выполнимые файлы Python используют пакеты и настройки только этой среды.\n",
    "\n",
    "```\n",
    "(env) $\n",
    "```\n",
    "\n",
    "Находясь в одном из окружений, можно ставить пакеты через pip, как обычно:\n",
    "\n",
    "```\n",
    "pip install flask\n",
    "```\n",
    "\n",
    "Список зависимостей проекта принято сохранять в файл с именем requirements.txt:\n",
    "\n",
    "```\n",
    "pip freeze > requirements.txt\n",
    "```\n",
    "\n",
    "Этот подход позволяет одной командой установить все зависимости, необходимые проекту:\n",
    "\n",
    "```\n",
    "pip install -r requirements.txt\n",
    "```\n",
    "\n",
    "Команда **deactivate** возвращает назад в контекст «system»."
   ]
  },
  {
   "cell_type": "markdown",
   "metadata": {},
   "source": [
    "## Задание\n",
    "\n",
    "Установите пакет `stupidity` и импортируйте все требуемые объекты оттуда, чтобы заработал код в следующей ячейке:"
   ]
  },
  {
   "cell_type": "code",
   "execution_count": 13,
   "metadata": {},
   "outputs": [
    {
     "name": "stdout",
     "output_type": "stream",
     "text": [
      "Collecting stupidity\n",
      "  Downloading stupidity-0.0.1.tar.gz (4.5 kB)\n",
      "  Installing build dependencies: started\n",
      "  Installing build dependencies: finished with status 'done'\n",
      "  Getting requirements to build wheel: started\n",
      "  Getting requirements to build wheel: finished with status 'done'\n",
      "  Preparing metadata (pyproject.toml): started\n",
      "  Preparing metadata (pyproject.toml): finished with status 'done'\n",
      "Building wheels for collected packages: stupidity\n",
      "  Building wheel for stupidity (pyproject.toml): started\n",
      "  Building wheel for stupidity (pyproject.toml): finished with status 'done'\n",
      "  Created wheel for stupidity: filename=stupidity-0.0.1-py3-none-any.whl size=4726 sha256=9a79bb24b7fdb88103669dc0cad18a99040c50e51fb1963850a5878a1d8e3f19\n",
      "  Stored in directory: c:\\users\\bronn\\appdata\\local\\pip\\cache\\wheels\\19\\c3\\82\\a0311847b9b4f1ee4c04c3ac5720dd9415a776f80ccedbddab\n",
      "Successfully built stupidity\n",
      "Installing collected packages: stupidity\n",
      "Successfully installed stupidity-0.0.1\n"
     ]
    }
   ],
   "source": [
    "!pip install stupidity"
   ]
  },
  {
   "cell_type": "code",
   "execution_count": 24,
   "metadata": {},
   "outputs": [
    {
     "name": "stdout",
     "output_type": "stream",
     "text": [
      "this is printed\n",
      "fallthrough is also supported\n",
      "yep\n"
     ]
    }
   ],
   "source": [
    "from stupidity import switch\n",
    "for case in switch('b'):\n",
    "    with case('a'):\n",
    "        print('this is not printed')\n",
    "    with case('b'):\n",
    "        print('this is printed')\n",
    "    with case('c'):\n",
    "        print('fallthrough is also supported')\n",
    "        break\n",
    "    with case('d'):\n",
    "        print('this is not printed either')\n",
    "    print('default value at bottom, but this is not reached')\n",
    "    \n",
    "    \n",
    "x = 42;\n",
    "if (x == 123): {\n",
    "    print('nope')\n",
    "}\n",
    "elif (x == 42): {\n",
    "    print('yep')\n",
    "}"
   ]
  },
  {
   "cell_type": "markdown",
   "metadata": {},
   "source": [
    "Да, это абсолютно бессмысленный пакет, который позволяет сделать синтаксис питона больше похожим на С. Пожалуйста, никогда и нигде его не используйте =)"
   ]
  },
  {
   "cell_type": "code",
   "execution_count": null,
   "metadata": {},
   "outputs": [],
   "source": []
  }
 ],
 "metadata": {
  "colab": {
   "name": "topic08.ipynb",
   "provenance": []
  },
  "kernelspec": {
   "display_name": ".venv",
   "language": "python",
   "name": "python3"
  },
  "language_info": {
   "codemirror_mode": {
    "name": "ipython",
    "version": 3
   },
   "file_extension": ".py",
   "mimetype": "text/x-python",
   "name": "python",
   "nbconvert_exporter": "python",
   "pygments_lexer": "ipython3",
   "version": "3.13.0"
  }
 },
 "nbformat": 4,
 "nbformat_minor": 1
}
